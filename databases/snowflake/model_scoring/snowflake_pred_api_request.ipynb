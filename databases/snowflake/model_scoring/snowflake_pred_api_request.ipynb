{
 "cells": [
  {
   "cell_type": "code",
   "execution_count": 1,
   "metadata": {
    "ExecuteTime": {
     "end_time": "2020-02-16T23:17:55.607775Z",
     "start_time": "2020-02-16T23:17:55.594661Z"
    }
   },
   "outputs": [
    {
     "data": {
      "text/plain": [
       "'\\nSnowflake + DataRobot Prediction API example code.\\n\\n1. Data extracted via Snowflake python connector\\n2. Python scoring http request sent\\n3. Data written back to Snowflake via connector as raw json and flattened in Snowflake\\n4. Data flattened in python\\n5. Batch Scoring Script scoring\\n\\n*******\\nNOTE: \\nWrite back only shown as an example - the processed used here may be ok on some databases,\\nbut Snowflake should ingest data back via stage objects\\n*******\\n\\nv1.0 Mike Taveirne (doyouevendata) 1/17/2020\\n'"
      ]
     },
     "execution_count": 1,
     "metadata": {},
     "output_type": "execute_result"
    }
   ],
   "source": [
    "\"\"\"\n",
    "Snowflake + DataRobot Prediction API example code.\n",
    "\n",
    "1. Data extracted via Snowflake python connector\n",
    "2. Python scoring http request sent\n",
    "3. Data written back to Snowflake via connector as raw json and flattened in Snowflake\n",
    "4. Data flattened in python\n",
    "5. Batch Scoring Script scoring\n",
    "\n",
    "*******\n",
    "NOTE: \n",
    "Write back only shown as an example - the processed used here may be ok on some databases,\n",
    "but Snowflake should ingest data back via stage objects\n",
    "*******\n",
    "\n",
    "v1.0 Mike Taveirne (doyouevendata) 1/17/2020\n",
    "\"\"\""
   ]
  },
  {
   "cell_type": "code",
   "execution_count": 2,
   "metadata": {
    "ExecuteTime": {
     "end_time": "2020-02-16T23:17:57.421326Z",
     "start_time": "2020-02-16T23:17:56.054256Z"
    }
   },
   "outputs": [],
   "source": [
    "import snowflake.connector\n",
    "import datetime\n",
    "import sys\n",
    "from pandas.io.json import json_normalize\n",
    "import pandas as pd\n",
    "import requests\n",
    "\n",
    "import my_creds"
   ]
  },
  {
   "cell_type": "code",
   "execution_count": 3,
   "metadata": {
    "ExecuteTime": {
     "end_time": "2020-02-16T23:17:57.464305Z",
     "start_time": "2020-02-16T23:17:57.426620Z"
    }
   },
   "outputs": [],
   "source": [
    "# datarobot parameters\n",
    "API_KEY = my_creds.API_KEY\n",
    "USERNAME = my_creds.USERNAME\n",
    "DEPLOYMENT_ID = '5e27561dfbfc8805cf61ac08'\n",
    "DATAROBOT_KEY = my_creds.DATAROBOT_KEY\n",
    "# replace with the load balancer for your prediction instance(s)\n",
    "DR_PREDICTION_HOST = 'https://datarobot-support.orm.datarobot.com'\n",
    "\n",
    "DR_MODELING_HEADERS = {'Content-Type': 'application/json', 'Authorization': 'token %s' % API_KEY}\n",
    "\n",
    "headers = {'Content-Type': 'text/plain; charset=UTF-8', 'datarobot-key': DATAROBOT_KEY}\n",
    "\n",
    "url = '{dr_prediction_host}/predApi/v1.0/deployments/{deployment_id}/'\\\n",
    "          'predictions'.format(dr_prediction_host=DR_PREDICTION_HOST, deployment_id=DEPLOYMENT_ID)"
   ]
  },
  {
   "cell_type": "code",
   "execution_count": 4,
   "metadata": {
    "ExecuteTime": {
     "end_time": "2020-02-16T23:17:59.750769Z",
     "start_time": "2020-02-16T23:17:57.486885Z"
    }
   },
   "outputs": [
    {
     "data": {
      "text/html": [
       "<div>\n",
       "<style scoped>\n",
       "    .dataframe tbody tr th:only-of-type {\n",
       "        vertical-align: middle;\n",
       "    }\n",
       "\n",
       "    .dataframe tbody tr th {\n",
       "        vertical-align: top;\n",
       "    }\n",
       "\n",
       "    .dataframe thead th {\n",
       "        text-align: right;\n",
       "    }\n",
       "</style>\n",
       "<table border=\"1\" class=\"dataframe\">\n",
       "  <thead>\n",
       "    <tr style=\"text-align: right;\">\n",
       "      <th></th>\n",
       "      <th>name</th>\n",
       "      <th>featureType</th>\n",
       "      <th>importance</th>\n",
       "    </tr>\n",
       "  </thead>\n",
       "  <tbody>\n",
       "    <tr>\n",
       "      <td>0</td>\n",
       "      <td>AGE</td>\n",
       "      <td>Numeric</td>\n",
       "      <td>-0.003937</td>\n",
       "    </tr>\n",
       "    <tr>\n",
       "      <td>1</td>\n",
       "      <td>CABIN</td>\n",
       "      <td>Categorical</td>\n",
       "      <td>0.027195</td>\n",
       "    </tr>\n",
       "    <tr>\n",
       "      <td>2</td>\n",
       "      <td>EMBARKED</td>\n",
       "      <td>Categorical</td>\n",
       "      <td>0.011546</td>\n",
       "    </tr>\n",
       "    <tr>\n",
       "      <td>3</td>\n",
       "      <td>FARE</td>\n",
       "      <td>Numeric</td>\n",
       "      <td>0.086994</td>\n",
       "    </tr>\n",
       "    <tr>\n",
       "      <td>4</td>\n",
       "      <td>NAME</td>\n",
       "      <td>Text</td>\n",
       "      <td>0.270336</td>\n",
       "    </tr>\n",
       "    <tr>\n",
       "      <td>5</td>\n",
       "      <td>PARCH</td>\n",
       "      <td>Numeric</td>\n",
       "      <td>0.006772</td>\n",
       "    </tr>\n",
       "    <tr>\n",
       "      <td>6</td>\n",
       "      <td>PCLASS</td>\n",
       "      <td>Numeric</td>\n",
       "      <td>0.091253</td>\n",
       "    </tr>\n",
       "    <tr>\n",
       "      <td>7</td>\n",
       "      <td>SEX</td>\n",
       "      <td>Categorical</td>\n",
       "      <td>0.216641</td>\n",
       "    </tr>\n",
       "    <tr>\n",
       "      <td>8</td>\n",
       "      <td>SIBSP</td>\n",
       "      <td>Numeric</td>\n",
       "      <td>0.021092</td>\n",
       "    </tr>\n",
       "  </tbody>\n",
       "</table>\n",
       "</div>"
      ],
      "text/plain": [
       "       name  featureType  importance\n",
       "0       AGE      Numeric   -0.003937\n",
       "1     CABIN  Categorical    0.027195\n",
       "2  EMBARKED  Categorical    0.011546\n",
       "3      FARE      Numeric    0.086994\n",
       "4      NAME         Text    0.270336\n",
       "5     PARCH      Numeric    0.006772\n",
       "6    PCLASS      Numeric    0.091253\n",
       "7       SEX  Categorical    0.216641\n",
       "8     SIBSP      Numeric    0.021092"
      ]
     },
     "execution_count": 4,
     "metadata": {},
     "output_type": "execute_result"
    }
   ],
   "source": [
    "response = requests.get('https://app.datarobot.com/api/v2/modelDeployments/'+DEPLOYMENT_ID+'/features/',\n",
    "    headers=DR_MODELING_HEADERS)\n",
    "json_normalize(data=response.json()['data'])[['name', 'featureType', 'importance']]"
   ]
  },
  {
   "cell_type": "code",
   "execution_count": 5,
   "metadata": {
    "ExecuteTime": {
     "end_time": "2020-02-16T23:17:59.759931Z",
     "start_time": "2020-02-16T23:17:59.753147Z"
    }
   },
   "outputs": [],
   "source": [
    "# snowflake parameters\n",
    "SNOW_ACCOUNT = my_creds.SNOW_ACCOUNT\n",
    "SNOW_USER = my_creds.SNOW_USER\n",
    "SNOW_PASS = my_creds.SNOW_PASS\n",
    "SNOW_DB = 'TITANIC'\n",
    "SNOW_SCHEMA = 'PUBLIC'"
   ]
  },
  {
   "cell_type": "code",
   "execution_count": 6,
   "metadata": {
    "ExecuteTime": {
     "end_time": "2020-02-16T23:18:04.588225Z",
     "start_time": "2020-02-16T23:17:59.766187Z"
    }
   },
   "outputs": [
    {
     "data": {
      "text/html": [
       "<div>\n",
       "<style scoped>\n",
       "    .dataframe tbody tr th:only-of-type {\n",
       "        vertical-align: middle;\n",
       "    }\n",
       "\n",
       "    .dataframe tbody tr th {\n",
       "        vertical-align: top;\n",
       "    }\n",
       "\n",
       "    .dataframe thead th {\n",
       "        text-align: right;\n",
       "    }\n",
       "</style>\n",
       "<table border=\"1\" class=\"dataframe\">\n",
       "  <thead>\n",
       "    <tr style=\"text-align: right;\">\n",
       "      <th></th>\n",
       "      <th>PASSENGERID</th>\n",
       "      <th>PCLASS</th>\n",
       "      <th>NAME</th>\n",
       "      <th>SEX</th>\n",
       "      <th>AGE</th>\n",
       "      <th>SIBSP</th>\n",
       "      <th>PARCH</th>\n",
       "      <th>FARE</th>\n",
       "      <th>CABIN</th>\n",
       "      <th>EMBARKED</th>\n",
       "    </tr>\n",
       "  </thead>\n",
       "  <tbody>\n",
       "    <tr>\n",
       "      <td>0</td>\n",
       "      <td>892</td>\n",
       "      <td>3</td>\n",
       "      <td>Kelly, Mr. James</td>\n",
       "      <td>male</td>\n",
       "      <td>34.5</td>\n",
       "      <td>0</td>\n",
       "      <td>0</td>\n",
       "      <td>7.8292</td>\n",
       "      <td>None</td>\n",
       "      <td>Q</td>\n",
       "    </tr>\n",
       "    <tr>\n",
       "      <td>1</td>\n",
       "      <td>893</td>\n",
       "      <td>3</td>\n",
       "      <td>Wilkes, Mrs. James (Ellen Needs)</td>\n",
       "      <td>female</td>\n",
       "      <td>47.0</td>\n",
       "      <td>1</td>\n",
       "      <td>0</td>\n",
       "      <td>7.0000</td>\n",
       "      <td>None</td>\n",
       "      <td>S</td>\n",
       "    </tr>\n",
       "    <tr>\n",
       "      <td>2</td>\n",
       "      <td>894</td>\n",
       "      <td>2</td>\n",
       "      <td>Myles, Mr. Thomas Francis</td>\n",
       "      <td>male</td>\n",
       "      <td>62.0</td>\n",
       "      <td>0</td>\n",
       "      <td>0</td>\n",
       "      <td>9.6875</td>\n",
       "      <td>None</td>\n",
       "      <td>Q</td>\n",
       "    </tr>\n",
       "    <tr>\n",
       "      <td>3</td>\n",
       "      <td>895</td>\n",
       "      <td>3</td>\n",
       "      <td>Wirz, Mr. Albert</td>\n",
       "      <td>male</td>\n",
       "      <td>27.0</td>\n",
       "      <td>0</td>\n",
       "      <td>0</td>\n",
       "      <td>8.6625</td>\n",
       "      <td>None</td>\n",
       "      <td>S</td>\n",
       "    </tr>\n",
       "    <tr>\n",
       "      <td>4</td>\n",
       "      <td>896</td>\n",
       "      <td>3</td>\n",
       "      <td>Hirvonen, Mrs. Alexander (Helga E Lindqvist)</td>\n",
       "      <td>female</td>\n",
       "      <td>22.0</td>\n",
       "      <td>1</td>\n",
       "      <td>1</td>\n",
       "      <td>12.2875</td>\n",
       "      <td>None</td>\n",
       "      <td>S</td>\n",
       "    </tr>\n",
       "  </tbody>\n",
       "</table>\n",
       "</div>"
      ],
      "text/plain": [
       "   PASSENGERID  PCLASS                                          NAME     SEX  \\\n",
       "0          892       3                              Kelly, Mr. James    male   \n",
       "1          893       3              Wilkes, Mrs. James (Ellen Needs)  female   \n",
       "2          894       2                     Myles, Mr. Thomas Francis    male   \n",
       "3          895       3                              Wirz, Mr. Albert    male   \n",
       "4          896       3  Hirvonen, Mrs. Alexander (Helga E Lindqvist)  female   \n",
       "\n",
       "    AGE  SIBSP  PARCH     FARE CABIN EMBARKED  \n",
       "0  34.5      0      0   7.8292  None        Q  \n",
       "1  47.0      1      0   7.0000  None        S  \n",
       "2  62.0      0      0   9.6875  None        Q  \n",
       "3  27.0      0      0   8.6625  None        S  \n",
       "4  22.0      1      1  12.2875  None        S  "
      ]
     },
     "execution_count": 6,
     "metadata": {},
     "output_type": "execute_result"
    }
   ],
   "source": [
    "# create a connection\n",
    "ctx = snowflake.connector.connect(\n",
    "          user=SNOW_USER,\n",
    "          password=SNOW_PASS,\n",
    "          account=SNOW_ACCOUNT,\n",
    "          database=SNOW_DB,\n",
    "          schema=SNOW_SCHEMA,\n",
    "          protocol='https'\n",
    ")\n",
    "\n",
    "# create a cursor\n",
    "cur = ctx.cursor()\n",
    "\n",
    "# execute sql\n",
    "sql = \"select passengerid, pclass, name, sex, age, sibsp, parch, fare, cabin, embarked \" \\\n",
    "    + \" from titanic.public.passengers\"\n",
    "cur.execute(sql)\n",
    "\n",
    "# fetch results into dataframe\n",
    "df = cur.fetch_pandas_all()\n",
    "df.head()"
   ]
  },
  {
   "cell_type": "code",
   "execution_count": 7,
   "metadata": {
    "ExecuteTime": {
     "end_time": "2020-02-16T23:18:09.802716Z",
     "start_time": "2020-02-16T23:18:04.591202Z"
    }
   },
   "outputs": [],
   "source": [
    "predictions_response = requests.post(\n",
    "        url,\n",
    "        auth=(USERNAME, API_KEY),\n",
    "        data=df.to_csv(),\n",
    "        headers=headers,\n",
    "        # business key passed through\n",
    "        params={'passthroughColumns' : 'PASSENGERID'}\n",
    "    )\n",
    "\n",
    "if predictions_response.status_code != 200:\n",
    "    print(\"error {status_code}: {content}\".format(status_code=predictions_response.status_code, content=predictions_response.content))\n",
    "    sys.exit(-1)"
   ]
  },
  {
   "cell_type": "code",
   "execution_count": 8,
   "metadata": {
    "ExecuteTime": {
     "end_time": "2020-02-16T23:18:09.819026Z",
     "start_time": "2020-02-16T23:18:09.805494Z"
    }
   },
   "outputs": [
    {
     "data": {
      "text/plain": [
       "[{'predictionValues': [{'value': 0.1192797848, 'label': 1.0},\n",
       "   {'value': 0.8807202152, 'label': 0.0}],\n",
       "  'predictionThreshold': 0.5,\n",
       "  'prediction': 0.0,\n",
       "  'rowId': 0,\n",
       "  'passthroughValues': {'PASSENGERID': '892'}},\n",
       " {'predictionValues': [{'value': 0.371408663, 'label': 1.0},\n",
       "   {'value': 0.628591337, 'label': 0.0}],\n",
       "  'predictionThreshold': 0.5,\n",
       "  'prediction': 0.0,\n",
       "  'rowId': 1,\n",
       "  'passthroughValues': {'PASSENGERID': '893'}},\n",
       " {'predictionValues': [{'value': 0.1242133111, 'label': 1.0},\n",
       "   {'value': 0.8757866889, 'label': 0.0}],\n",
       "  'predictionThreshold': 0.5,\n",
       "  'prediction': 0.0,\n",
       "  'rowId': 2,\n",
       "  'passthroughValues': {'PASSENGERID': '894'}}]"
      ]
     },
     "execution_count": 8,
     "metadata": {},
     "output_type": "execute_result"
    }
   ],
   "source": [
    "# first 3 records json structure\n",
    "predictions_response.json()['data'][0:3]"
   ]
  },
  {
   "cell_type": "code",
   "execution_count": 9,
   "metadata": {
    "ExecuteTime": {
     "end_time": "2020-02-16T23:18:09.847580Z",
     "start_time": "2020-02-16T23:18:09.821930Z"
    }
   },
   "outputs": [
    {
     "data": {
      "text/html": [
       "<div>\n",
       "<style scoped>\n",
       "    .dataframe tbody tr th:only-of-type {\n",
       "        vertical-align: middle;\n",
       "    }\n",
       "\n",
       "    .dataframe tbody tr th {\n",
       "        vertical-align: top;\n",
       "    }\n",
       "\n",
       "    .dataframe thead th {\n",
       "        text-align: right;\n",
       "    }\n",
       "</style>\n",
       "<table border=\"1\" class=\"dataframe\">\n",
       "  <thead>\n",
       "    <tr style=\"text-align: right;\">\n",
       "      <th></th>\n",
       "      <th>data</th>\n",
       "    </tr>\n",
       "  </thead>\n",
       "  <tbody>\n",
       "    <tr>\n",
       "      <td>0</td>\n",
       "      <td>{'predictionValues': [{'value': 0.1192797848, ...</td>\n",
       "    </tr>\n",
       "    <tr>\n",
       "      <td>1</td>\n",
       "      <td>{'predictionValues': [{'value': 0.371408663, '...</td>\n",
       "    </tr>\n",
       "    <tr>\n",
       "      <td>2</td>\n",
       "      <td>{'predictionValues': [{'value': 0.1242133111, ...</td>\n",
       "    </tr>\n",
       "    <tr>\n",
       "      <td>3</td>\n",
       "      <td>{'predictionValues': [{'value': 0.1251585249, ...</td>\n",
       "    </tr>\n",
       "    <tr>\n",
       "      <td>4</td>\n",
       "      <td>{'predictionValues': [{'value': 0.5486341299, ...</td>\n",
       "    </tr>\n",
       "  </tbody>\n",
       "</table>\n",
       "</div>"
      ],
      "text/plain": [
       "                                                data\n",
       "0  {'predictionValues': [{'value': 0.1192797848, ...\n",
       "1  {'predictionValues': [{'value': 0.371408663, '...\n",
       "2  {'predictionValues': [{'value': 0.1242133111, ...\n",
       "3  {'predictionValues': [{'value': 0.1251585249, ...\n",
       "4  {'predictionValues': [{'value': 0.5486341299, ..."
      ]
     },
     "execution_count": 9,
     "metadata": {},
     "output_type": "execute_result"
    }
   ],
   "source": [
    "df_response = pd.DataFrame.from_dict(predictions_response.json())\n",
    "df_response.head()"
   ]
  },
  {
   "cell_type": "markdown",
   "metadata": {},
   "source": [
    "# Load raw json and flatten in Snowflake"
   ]
  },
  {
   "cell_type": "code",
   "execution_count": 10,
   "metadata": {
    "ExecuteTime": {
     "end_time": "2020-02-16T23:18:10.665792Z",
     "start_time": "2020-02-16T23:18:09.850445Z"
    }
   },
   "outputs": [
    {
     "data": {
      "text/plain": [
       "<snowflake.connector.cursor.SnowflakeCursor at 0x11a201f10>"
      ]
     },
     "execution_count": 10,
     "metadata": {},
     "output_type": "execute_result"
    }
   ],
   "source": [
    "ctx.cursor().execute('create or replace table passenger_scored_json(json_rec variant)')"
   ]
  },
  {
   "cell_type": "code",
   "execution_count": 11,
   "metadata": {
    "ExecuteTime": {
     "end_time": "2020-02-16T23:18:15.751993Z",
     "start_time": "2020-02-16T23:18:10.667674Z"
    }
   },
   "outputs": [
    {
     "name": "stdout",
     "output_type": "stream",
     "text": [
      "{'predictionValues': [{'value': 0.1192797848, 'label': 1.0}, {'value': 0.8807202152, 'label': 0.0}], 'predictionThreshold': 0.5, 'prediction': 0.0, 'rowId': 0, 'passthroughValues': {'PASSENGERID': '892'}}\n",
      "{'predictionValues': [{'value': 0.371408663, 'label': 1.0}, {'value': 0.628591337, 'label': 0.0}], 'predictionThreshold': 0.5, 'prediction': 0.0, 'rowId': 1, 'passthroughValues': {'PASSENGERID': '893'}}\n",
      "{'predictionValues': [{'value': 0.1242133111, 'label': 1.0}, {'value': 0.8757866889, 'label': 0.0}], 'predictionThreshold': 0.5, 'prediction': 0.0, 'rowId': 2, 'passthroughValues': {'PASSENGERID': '894'}}\n",
      "{'predictionValues': [{'value': 0.1251585249, 'label': 1.0}, {'value': 0.8748414751, 'label': 0.0}], 'predictionThreshold': 0.5, 'prediction': 0.0, 'rowId': 3, 'passthroughValues': {'PASSENGERID': '895'}}\n",
      "{'predictionValues': [{'value': 0.5486341299, 'label': 1.0}, {'value': 0.4513658701, 'label': 0.0}], 'predictionThreshold': 0.5, 'prediction': 1.0, 'rowId': 4, 'passthroughValues': {'PASSENGERID': '896'}}\n"
     ]
    }
   ],
   "source": [
    "df5 =  df_response.head()\n",
    "\n",
    "# this is not the proper way to insert data into snowflake, but is used for quick demo convenience.\n",
    "# snowflake ingest should be done via snowflake stage objects.\n",
    "for ind, row in df5.iterrows():\n",
    "    escaped = str(row['data']).replace(\"'\", \"''\")\n",
    "    ctx.cursor().execute(\"insert into passenger_scored_json select parse_json('{rec}')\".format(rec=escaped))\n",
    "    print(row['data'])"
   ]
  },
  {
   "cell_type": "code",
   "execution_count": 12,
   "metadata": {
    "ExecuteTime": {
     "end_time": "2020-02-16T23:18:18.713922Z",
     "start_time": "2020-02-16T23:18:15.754478Z"
    }
   },
   "outputs": [
    {
     "data": {
      "text/plain": [
       "<snowflake.connector.cursor.SnowflakeCursor at 0x11ad67850>"
      ]
     },
     "execution_count": 12,
     "metadata": {},
     "output_type": "execute_result"
    }
   ],
   "source": [
    "ctx.cursor().execute('create or replace table passenger_scored_flattened as \\\n",
    "    select json_rec:passthroughValues.PASSENGERID::int as passengerid \\\n",
    "    , json_rec:prediction::int as prediction \\\n",
    "    , json_rec:predictionThreshold::numeric(10,9) as prediction_threshold \\\n",
    "    , f.value:label as prediction_label \\\n",
    "    , f.value:value as prediction_score \\\n",
    "    from titanic.public.passenger_scored_json, table(flatten(json_rec:predictionValues)) f \\\n",
    "    where f.value:label = 1')"
   ]
  },
  {
   "cell_type": "code",
   "execution_count": 13,
   "metadata": {
    "ExecuteTime": {
     "end_time": "2020-02-16T23:18:19.332456Z",
     "start_time": "2020-02-16T23:18:18.715668Z"
    }
   },
   "outputs": [
    {
     "data": {
      "text/html": [
       "<div>\n",
       "<style scoped>\n",
       "    .dataframe tbody tr th:only-of-type {\n",
       "        vertical-align: middle;\n",
       "    }\n",
       "\n",
       "    .dataframe tbody tr th {\n",
       "        vertical-align: top;\n",
       "    }\n",
       "\n",
       "    .dataframe thead th {\n",
       "        text-align: right;\n",
       "    }\n",
       "</style>\n",
       "<table border=\"1\" class=\"dataframe\">\n",
       "  <thead>\n",
       "    <tr style=\"text-align: right;\">\n",
       "      <th></th>\n",
       "      <th>PASSENGERID</th>\n",
       "      <th>PREDICTION</th>\n",
       "      <th>PREDICTION_THRESHOLD</th>\n",
       "      <th>PREDICTION_LABEL</th>\n",
       "      <th>PREDICTION_SCORE</th>\n",
       "    </tr>\n",
       "  </thead>\n",
       "  <tbody>\n",
       "    <tr>\n",
       "      <td>0</td>\n",
       "      <td>892</td>\n",
       "      <td>0</td>\n",
       "      <td>0.5</td>\n",
       "      <td>1</td>\n",
       "      <td>0.1192797848</td>\n",
       "    </tr>\n",
       "    <tr>\n",
       "      <td>1</td>\n",
       "      <td>893</td>\n",
       "      <td>0</td>\n",
       "      <td>0.5</td>\n",
       "      <td>1</td>\n",
       "      <td>0.371408663</td>\n",
       "    </tr>\n",
       "    <tr>\n",
       "      <td>2</td>\n",
       "      <td>894</td>\n",
       "      <td>0</td>\n",
       "      <td>0.5</td>\n",
       "      <td>1</td>\n",
       "      <td>0.1242133111</td>\n",
       "    </tr>\n",
       "    <tr>\n",
       "      <td>3</td>\n",
       "      <td>895</td>\n",
       "      <td>0</td>\n",
       "      <td>0.5</td>\n",
       "      <td>1</td>\n",
       "      <td>0.1251585249</td>\n",
       "    </tr>\n",
       "    <tr>\n",
       "      <td>4</td>\n",
       "      <td>896</td>\n",
       "      <td>1</td>\n",
       "      <td>0.5</td>\n",
       "      <td>1</td>\n",
       "      <td>0.5486341299</td>\n",
       "    </tr>\n",
       "  </tbody>\n",
       "</table>\n",
       "</div>"
      ],
      "text/plain": [
       "   PASSENGERID  PREDICTION  PREDICTION_THRESHOLD PREDICTION_LABEL  \\\n",
       "0          892           0                   0.5                1   \n",
       "1          893           0                   0.5                1   \n",
       "2          894           0                   0.5                1   \n",
       "3          895           0                   0.5                1   \n",
       "4          896           1                   0.5                1   \n",
       "\n",
       "  PREDICTION_SCORE  \n",
       "0     0.1192797848  \n",
       "1      0.371408663  \n",
       "2     0.1242133111  \n",
       "3     0.1251585249  \n",
       "4     0.5486341299  "
      ]
     },
     "execution_count": 13,
     "metadata": {},
     "output_type": "execute_result"
    }
   ],
   "source": [
    "sql = \"select * from passenger_scored_flattened\"\n",
    "cur.execute(sql)\n",
    "\n",
    "# fetch results into dataframe\n",
    "df_new = cur.fetch_pandas_all()\n",
    "df_new.head()"
   ]
  },
  {
   "cell_type": "markdown",
   "metadata": {},
   "source": [
    "# Flatten in python instead"
   ]
  },
  {
   "cell_type": "code",
   "execution_count": 14,
   "metadata": {
    "ExecuteTime": {
     "end_time": "2020-02-16T23:18:19.366304Z",
     "start_time": "2020-02-16T23:18:19.334956Z"
    }
   },
   "outputs": [
    {
     "data": {
      "text/html": [
       "<div>\n",
       "<style scoped>\n",
       "    .dataframe tbody tr th:only-of-type {\n",
       "        vertical-align: middle;\n",
       "    }\n",
       "\n",
       "    .dataframe tbody tr th {\n",
       "        vertical-align: top;\n",
       "    }\n",
       "\n",
       "    .dataframe thead th {\n",
       "        text-align: right;\n",
       "    }\n",
       "</style>\n",
       "<table border=\"1\" class=\"dataframe\">\n",
       "  <thead>\n",
       "    <tr style=\"text-align: right;\">\n",
       "      <th></th>\n",
       "      <th>value</th>\n",
       "      <th>label</th>\n",
       "      <th>PASSENGERID</th>\n",
       "      <th>prediction</th>\n",
       "      <th>predictionThreshold</th>\n",
       "    </tr>\n",
       "  </thead>\n",
       "  <tbody>\n",
       "    <tr>\n",
       "      <td>0</td>\n",
       "      <td>0.119280</td>\n",
       "      <td>1.0</td>\n",
       "      <td>892</td>\n",
       "      <td>0</td>\n",
       "      <td>0.5</td>\n",
       "    </tr>\n",
       "    <tr>\n",
       "      <td>2</td>\n",
       "      <td>0.371409</td>\n",
       "      <td>1.0</td>\n",
       "      <td>893</td>\n",
       "      <td>0</td>\n",
       "      <td>0.5</td>\n",
       "    </tr>\n",
       "    <tr>\n",
       "      <td>4</td>\n",
       "      <td>0.124213</td>\n",
       "      <td>1.0</td>\n",
       "      <td>894</td>\n",
       "      <td>0</td>\n",
       "      <td>0.5</td>\n",
       "    </tr>\n",
       "    <tr>\n",
       "      <td>6</td>\n",
       "      <td>0.125159</td>\n",
       "      <td>1.0</td>\n",
       "      <td>895</td>\n",
       "      <td>0</td>\n",
       "      <td>0.5</td>\n",
       "    </tr>\n",
       "    <tr>\n",
       "      <td>8</td>\n",
       "      <td>0.548634</td>\n",
       "      <td>1.0</td>\n",
       "      <td>896</td>\n",
       "      <td>1</td>\n",
       "      <td>0.5</td>\n",
       "    </tr>\n",
       "  </tbody>\n",
       "</table>\n",
       "</div>"
      ],
      "text/plain": [
       "      value  label PASSENGERID prediction predictionThreshold\n",
       "0  0.119280    1.0         892          0                 0.5\n",
       "2  0.371409    1.0         893          0                 0.5\n",
       "4  0.124213    1.0         894          0                 0.5\n",
       "6  0.125159    1.0         895          0                 0.5\n",
       "8  0.548634    1.0         896          1                 0.5"
      ]
     },
     "execution_count": 14,
     "metadata": {},
     "output_type": "execute_result"
    }
   ],
   "source": [
    "df_results = json_normalize(data=predictions_response.json()['data'], record_path='predictionValues',\n",
    "    meta = [['passthroughValues', 'PASSENGERID'], 'prediction', 'predictionThreshold'])\n",
    "df_results = df_results[df_results['label'] == 1]\n",
    "df_results.rename(columns={\"passthroughValues.PASSENGERID\": \"PASSENGERID\"}, inplace=True)\n",
    "df_results.head()"
   ]
  },
  {
   "cell_type": "markdown",
   "metadata": {
    "ExecuteTime": {
     "end_time": "2020-01-23T01:45:49.216485Z",
     "start_time": "2020-01-23T01:45:49.077728Z"
    }
   },
   "source": [
    "# Client Side Batch Scoring Utility approach\n",
    "\n",
    "https://github.com/datarobot/batch-scoring\n",
    "\n",
    "Shreds input data up into batch payload requests, scores in parallel until input file is fully processed\n",
    "\n",
    "defaults: (auto sampled request size, 4 concurrent request threads)"
   ]
  },
  {
   "cell_type": "code",
   "execution_count": 15,
   "metadata": {
    "ExecuteTime": {
     "end_time": "2020-02-16T23:18:19.399042Z",
     "start_time": "2020-02-16T23:18:19.368015Z"
    }
   },
   "outputs": [
    {
     "data": {
      "text/plain": [
       "0"
      ]
     },
     "execution_count": 15,
     "metadata": {},
     "output_type": "execute_result"
    }
   ],
   "source": [
    "import os\n",
    "\n",
    "df.to_csv('input.csv', index=False)\n",
    "os.system('rm output.csv')"
   ]
  },
  {
   "cell_type": "code",
   "execution_count": 16,
   "metadata": {
    "ExecuteTime": {
     "end_time": "2020-02-16T23:18:34.276461Z",
     "start_time": "2020-02-16T23:18:19.401063Z"
    }
   },
   "outputs": [
    {
     "data": {
      "text/plain": [
       "0"
      ]
     },
     "execution_count": 16,
     "metadata": {},
     "output_type": "execute_result"
    }
   ],
   "source": [
    "batch_script_string = 'batch_scoring_deployment_aware \\\n",
    "--host=\"https://datarobot-support.orm.datarobot.com/\" \\\n",
    "--user=\"{user}\" \\\n",
    "--api_token=\"{api_token}\" \\\n",
    "--out=\"output.csv\" \\\n",
    "--datarobot_key=\"{datarobot_key}\" \\\n",
    "--keep_cols=\"PASSENGERID\" \\\n",
    "--max_prediction_explanations=3 \\\n",
    "{deployment_id} \\\n",
    "input.csv'.format(user=USERNAME, api_token=API_KEY, datarobot_key=DATAROBOT_KEY, deployment_id=DEPLOYMENT_ID)\n",
    "\n",
    "os.system(batch_script_string)"
   ]
  },
  {
   "cell_type": "code",
   "execution_count": 17,
   "metadata": {
    "ExecuteTime": {
     "end_time": "2020-02-16T23:18:34.557038Z",
     "start_time": "2020-02-16T23:18:34.281453Z"
    }
   },
   "outputs": [
    {
     "data": {
      "text/html": [
       "<div>\n",
       "<style scoped>\n",
       "    .dataframe tbody tr th:only-of-type {\n",
       "        vertical-align: middle;\n",
       "    }\n",
       "\n",
       "    .dataframe tbody tr th {\n",
       "        vertical-align: top;\n",
       "    }\n",
       "\n",
       "    .dataframe thead th {\n",
       "        text-align: right;\n",
       "    }\n",
       "</style>\n",
       "<table border=\"1\" class=\"dataframe\">\n",
       "  <thead>\n",
       "    <tr style=\"text-align: right;\">\n",
       "      <th></th>\n",
       "      <th>row_id</th>\n",
       "      <th>PASSENGERID</th>\n",
       "      <th>0.0</th>\n",
       "      <th>1.0</th>\n",
       "      <th>explanation_1_feature</th>\n",
       "      <th>explanation_1_strength</th>\n",
       "      <th>explanation_2_feature</th>\n",
       "      <th>explanation_2_strength</th>\n",
       "      <th>explanation_3_feature</th>\n",
       "      <th>explanation_3_strength</th>\n",
       "    </tr>\n",
       "  </thead>\n",
       "  <tbody>\n",
       "    <tr>\n",
       "      <td>0</td>\n",
       "      <td>0</td>\n",
       "      <td>892</td>\n",
       "      <td>0.880720</td>\n",
       "      <td>0.119280</td>\n",
       "      <td>NAME</td>\n",
       "      <td>-0.504941</td>\n",
       "      <td>SEX</td>\n",
       "      <td>-0.426696</td>\n",
       "      <td>FARE</td>\n",
       "      <td>-0.308353</td>\n",
       "    </tr>\n",
       "    <tr>\n",
       "      <td>1</td>\n",
       "      <td>1</td>\n",
       "      <td>893</td>\n",
       "      <td>0.628591</td>\n",
       "      <td>0.371409</td>\n",
       "      <td>PCLASS</td>\n",
       "      <td>-1.018456</td>\n",
       "      <td>NAME</td>\n",
       "      <td>0.835053</td>\n",
       "      <td>AGE</td>\n",
       "      <td>-0.764217</td>\n",
       "    </tr>\n",
       "    <tr>\n",
       "      <td>2</td>\n",
       "      <td>2</td>\n",
       "      <td>894</td>\n",
       "      <td>0.875787</td>\n",
       "      <td>0.124213</td>\n",
       "      <td>SEX</td>\n",
       "      <td>-0.643906</td>\n",
       "      <td>CABIN</td>\n",
       "      <td>-0.315584</td>\n",
       "      <td>NAME</td>\n",
       "      <td>-0.239311</td>\n",
       "    </tr>\n",
       "    <tr>\n",
       "      <td>3</td>\n",
       "      <td>3</td>\n",
       "      <td>895</td>\n",
       "      <td>0.874841</td>\n",
       "      <td>0.125159</td>\n",
       "      <td>NAME</td>\n",
       "      <td>-0.402308</td>\n",
       "      <td>CABIN</td>\n",
       "      <td>-0.353527</td>\n",
       "      <td>FARE</td>\n",
       "      <td>-0.182825</td>\n",
       "    </tr>\n",
       "    <tr>\n",
       "      <td>4</td>\n",
       "      <td>4</td>\n",
       "      <td>896</td>\n",
       "      <td>0.451366</td>\n",
       "      <td>0.548634</td>\n",
       "      <td>NAME</td>\n",
       "      <td>0.877150</td>\n",
       "      <td>PCLASS</td>\n",
       "      <td>-0.740308</td>\n",
       "      <td>SEX</td>\n",
       "      <td>0.491609</td>\n",
       "    </tr>\n",
       "  </tbody>\n",
       "</table>\n",
       "</div>"
      ],
      "text/plain": [
       "   row_id  PASSENGERID       0.0       1.0 explanation_1_feature  \\\n",
       "0       0          892  0.880720  0.119280                  NAME   \n",
       "1       1          893  0.628591  0.371409                PCLASS   \n",
       "2       2          894  0.875787  0.124213                   SEX   \n",
       "3       3          895  0.874841  0.125159                  NAME   \n",
       "4       4          896  0.451366  0.548634                  NAME   \n",
       "\n",
       "   explanation_1_strength explanation_2_feature  explanation_2_strength  \\\n",
       "0               -0.504941                   SEX               -0.426696   \n",
       "1               -1.018456                  NAME                0.835053   \n",
       "2               -0.643906                 CABIN               -0.315584   \n",
       "3               -0.402308                 CABIN               -0.353527   \n",
       "4                0.877150                PCLASS               -0.740308   \n",
       "\n",
       "  explanation_3_feature  explanation_3_strength  \n",
       "0                  FARE               -0.308353  \n",
       "1                   AGE               -0.764217  \n",
       "2                  NAME               -0.239311  \n",
       "3                  FARE               -0.182825  \n",
       "4                   SEX                0.491609  "
      ]
     },
     "execution_count": 17,
     "metadata": {},
     "output_type": "execute_result"
    }
   ],
   "source": [
    "df_output = pd.read_csv('output.csv')\n",
    "df_output.head()"
   ]
  },
  {
   "cell_type": "code",
   "execution_count": null,
   "metadata": {},
   "outputs": [],
   "source": []
  }
 ],
 "metadata": {
  "kernelspec": {
   "display_name": "Python (test_env)",
   "language": "python",
   "name": "test_env"
  },
  "language_info": {
   "codemirror_mode": {
    "name": "ipython",
    "version": 3
   },
   "file_extension": ".py",
   "mimetype": "text/x-python",
   "name": "python",
   "nbconvert_exporter": "python",
   "pygments_lexer": "ipython3",
   "version": "3.7.4"
  }
 },
 "nbformat": 4,
 "nbformat_minor": 2
}
