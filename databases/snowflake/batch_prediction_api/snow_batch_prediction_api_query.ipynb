{
 "cells": [
  {
   "cell_type": "code",
   "execution_count": null,
   "metadata": {},
   "outputs": [],
   "source": [
    "\"\"\"\n",
    "Snowflake Batch Prediction API Snowflake query scoring job\n",
    "\n",
    "v1.0 Mike Taveirne (doyouevendata) 3/21/2020\n",
    "\"\"\""
   ]
  },
  {
   "cell_type": "code",
   "execution_count": 1,
   "metadata": {
    "ExecuteTime": {
     "end_time": "2020-03-29T09:02:52.666710Z",
     "start_time": "2020-03-29T09:02:51.485824Z"
    }
   },
   "outputs": [],
   "source": [
    "import pandas as pd\n",
    "import requests\n",
    "import time\n",
    "from pandas.io.json import json_normalize\n",
    "import json\n",
    "\n",
    "import my_creds\n",
    "#from imp import reload\n",
    "#reload(my_creds)\n",
    "from datetime import datetime"
   ]
  },
  {
   "cell_type": "code",
   "execution_count": 2,
   "metadata": {
    "ExecuteTime": {
     "end_time": "2020-03-29T09:02:52.674837Z",
     "start_time": "2020-03-29T09:02:52.668681Z"
    }
   },
   "outputs": [],
   "source": [
    "# datarobot parameters\n",
    "API_KEY = my_creds.API_KEY\n",
    "USERNAME = my_creds.USERNAME\n",
    "DEPLOYMENT_ID = my_creds.DEPLOYMENT_ID\n",
    "DATAROBOT_KEY = my_creds.DATAROBOT_KEY\n",
    "# replace with the load balancer for your prediction instance(s)\n",
    "DR_PREDICTION_HOST = my_creds.DR_PREDICTION_HOST\n",
    "DR_APP_HOST = 'https://app.datarobot.com'\n",
    "\n",
    "DR_MODELING_HEADERS = {'Content-Type': 'application/json', 'Authorization': 'token %s' % API_KEY}\n",
    "\n",
    "headers = {'Content-Type': 'text/plain; charset=UTF-8', 'datarobot-key': DATAROBOT_KEY}\n",
    "\n",
    "url = '{dr_prediction_host}/predApi/v1.0/deployments/{deployment_id}/'\\\n",
    "          'predictions'.format(dr_prediction_host=DR_PREDICTION_HOST, deployment_id=DEPLOYMENT_ID)"
   ]
  },
  {
   "cell_type": "code",
   "execution_count": 3,
   "metadata": {
    "ExecuteTime": {
     "end_time": "2020-03-29T09:02:53.395549Z",
     "start_time": "2020-03-29T09:02:53.390956Z"
    }
   },
   "outputs": [],
   "source": [
    "# snowflake parameters\n",
    "SNOW_USER = my_creds.SNOW_USER\n",
    "SNOW_PASS = my_creds.SNOW_PASS"
   ]
  },
  {
   "cell_type": "markdown",
   "metadata": {},
   "source": [
    "### Retrieve Existing Data Connection"
   ]
  },
  {
   "cell_type": "code",
   "execution_count": 4,
   "metadata": {
    "ExecuteTime": {
     "end_time": "2020-03-29T09:02:55.389483Z",
     "start_time": "2020-03-29T09:02:55.382800Z"
    }
   },
   "outputs": [],
   "source": [
    "\"\"\"\n",
    "    get a data connection by name, return None if not found\n",
    "\"\"\"\n",
    "def dr_get_data_connection(name):\n",
    "    \n",
    "    data_connection_id = None\n",
    "\n",
    "    response = requests.get(\n",
    "            DR_APP_HOST + '/api/v2/externalDataStores/',\n",
    "            headers=DR_MODELING_HEADERS,\n",
    "        )\n",
    "\n",
    "    if response.status_code == 200:\n",
    "\n",
    "        df = pd.io.json.json_normalize(response.json()['data'])[['id', 'canonicalName']]\n",
    "\n",
    "        if df[df['canonicalName'] == name]['id'].size > 0:\n",
    "            data_connection_id = df[df['canonicalName'] == name]['id'].iloc[0]\n",
    "        \n",
    "    else:\n",
    "\n",
    "        print('Request failed; http error {code}: {content}'.format(code=response.status_code, content=response.content))\n",
    "\n",
    "    return data_connection_id"
   ]
  },
  {
   "cell_type": "code",
   "execution_count": 5,
   "metadata": {
    "ExecuteTime": {
     "end_time": "2020-03-29T09:03:00.118074Z",
     "start_time": "2020-03-29T09:02:58.493952Z"
    }
   },
   "outputs": [],
   "source": [
    "data_connection_id = dr_get_data_connection('snow_3_12_0_titanic')"
   ]
  },
  {
   "cell_type": "markdown",
   "metadata": {},
   "source": [
    "### Retrieve or Create Database Credentials"
   ]
  },
  {
   "cell_type": "code",
   "execution_count": 6,
   "metadata": {
    "ExecuteTime": {
     "end_time": "2020-03-29T09:03:03.073244Z",
     "start_time": "2020-03-29T09:03:03.062944Z"
    }
   },
   "outputs": [],
   "source": [
    "# get a saved credential set, return None if not found\n",
    "def dr_get_catalog_credentials(name, cred_type):\n",
    "    if cred_type not in ['basic', 's3']:\n",
    "        print('credentials type must be: basic, s3 - value passed was {ct}'.format(ct=cred_type))\n",
    "        return None\n",
    "    \n",
    "    credentials_id = None\n",
    "\n",
    "    response = requests.get(\n",
    "            DR_APP_HOST + '/api/v2/credentials/',\n",
    "            headers=DR_MODELING_HEADERS,\n",
    "        )\n",
    "\n",
    "    if response.status_code == 200:\n",
    "\n",
    "        df = pd.io.json.json_normalize(response.json()['data'])[['credentialId', 'name', 'credentialType']]\n",
    "\n",
    "        if df[(df['name'] == name) & (df['credentialType'] == cred_type)]['credentialId'].size > 0:\n",
    "            credentials_id = df[(df['name'] == name) & (df['credentialType'] == cred_type)]['credentialId'].iloc[0]\n",
    "     \n",
    "    else:\n",
    "\n",
    "        print('Request failed; http error {code}: {content}'.format(code=response.status_code, content=response.content))\n",
    "\n",
    "    return credentials_id"
   ]
  },
  {
   "cell_type": "code",
   "execution_count": 7,
   "metadata": {
    "ExecuteTime": {
     "end_time": "2020-03-29T09:03:03.749134Z",
     "start_time": "2020-03-29T09:03:03.741589Z"
    }
   },
   "outputs": [],
   "source": [
    "# create credentials set\n",
    "def dr_create_catalog_credentials(name, cred_type, user, password, token=None):\n",
    "    if cred_type not in ['basic', 's3']:\n",
    "        print('credentials type must be: basic, s3 - value passed was {ct}'.format(ct=cred_type))\n",
    "        return None\n",
    "    \n",
    "    if cred_type == 'basic':  \n",
    "        json = {\n",
    "            \"credentialType\": cred_type,\n",
    "            \"user\": user,\n",
    "            \"password\": password,\n",
    "            \"name\": name\n",
    "        }\n",
    "    elif cred_type == 's3' and token != None:  \n",
    "        json = {\n",
    "            \"credentialType\": cred_type,\n",
    "            \"awsAccessKeyId\": user,\n",
    "            \"awsSecretAccessKey\": password,\n",
    "            \"awsSessionToken\": token,\n",
    "            \"name\": name\n",
    "        }\n",
    "    elif cred_type == 's3' and token == None:  \n",
    "        json = {\n",
    "            \"credentialType\": cred_type,\n",
    "            \"awsAccessKeyId\": user,\n",
    "            \"awsSecretAccessKey\": password,\n",
    "            \"name\": name\n",
    "        }\n",
    "        \n",
    "    response = requests.post(\n",
    "        url = DR_APP_HOST + '/api/v2/credentials/',\n",
    "        headers=DR_MODELING_HEADERS,\n",
    "        json=json\n",
    "    )\n",
    "    \n",
    "    if response.status_code == 201:\n",
    "\n",
    "        return response.json()['credentialId']\n",
    "        \n",
    "    else:\n",
    "\n",
    "        print('Request failed; http error {code}: {content}'.format(code=response.status_code, content=response.content))\n"
   ]
  },
  {
   "cell_type": "code",
   "execution_count": 8,
   "metadata": {
    "ExecuteTime": {
     "end_time": "2020-03-29T09:03:04.513557Z",
     "start_time": "2020-03-29T09:03:04.509283Z"
    }
   },
   "outputs": [],
   "source": [
    "# get or create a credential set\n",
    "def dr_get_or_create_catalog_credentials(name, cred_type, user, password, token=None):\n",
    "    cred_id = dr_get_catalog_credentials(name, cred_type)\n",
    "    \n",
    "    if cred_id == None:\n",
    "        return dr_create_catalog_credentials(name, cred_type, user, password, token=None)\n",
    "    else:\n",
    "        return cred_id"
   ]
  },
  {
   "cell_type": "code",
   "execution_count": 9,
   "metadata": {
    "ExecuteTime": {
     "end_time": "2020-03-29T09:03:07.340369Z",
     "start_time": "2020-03-29T09:03:05.871466Z"
    }
   },
   "outputs": [],
   "source": [
    "credentials_id = dr_get_or_create_catalog_credentials('snow_community_credentials', \n",
    "                                                      'basic', my_creds.SNOW_USER, my_creds.SNOW_PASS)"
   ]
  },
  {
   "cell_type": "markdown",
   "metadata": {
    "ExecuteTime": {
     "end_time": "2020-03-21T08:40:27.963686Z",
     "start_time": "2020-03-21T08:39:01.550Z"
    }
   },
   "source": [
    "### Creating Session and Running Batch Prediction API Job"
   ]
  },
  {
   "cell_type": "code",
   "execution_count": 10,
   "metadata": {
    "ExecuteTime": {
     "end_time": "2020-03-29T09:03:08.800142Z",
     "start_time": "2020-03-29T09:03:08.797359Z"
    }
   },
   "outputs": [],
   "source": [
    "session = requests.Session()\n",
    "session.headers = {\n",
    "    'Authorization': 'Bearer {}'.format(API_KEY)\n",
    "}"
   ]
  },
  {
   "cell_type": "code",
   "execution_count": 11,
   "metadata": {
    "ExecuteTime": {
     "end_time": "2020-03-29T09:03:09.989382Z",
     "start_time": "2020-03-29T09:03:09.982202Z"
    }
   },
   "outputs": [],
   "source": [
    "job_details = {\n",
    "    \"deploymentId\": DEPLOYMENT_ID,\n",
    "    \"numConcurrent\": 4,\n",
    "    \"passthroughColumns\": [\"PASSENGERID\"],\n",
    "    \"includeProbabilities\": True,\n",
    "    \"predictionInstance\" : {\n",
    "        \"hostName\": DR_PREDICTION_HOST,\n",
    "        \"datarobotKey\": DATAROBOT_KEY\n",
    "    },\n",
    "    \"intakeSettings\": {\n",
    "        \"type\": \"jdbc\",\n",
    "        \"fetchSize\": 100000,\n",
    "        \"dataStoreId\": data_connection_id,\n",
    "        \"credentialId\": credentials_id,\n",
    "        #\"table\": \"PASSENGERS_500K\",\n",
    "        #\"schema\": \"PUBLIC\",\n",
    "        \"query\": \"select * from PASSENGERS\"\n",
    "    },\n",
    "    'outputSettings': {\n",
    "        \"type\": \"jdbc\",\n",
    "        \"table\": \"PASSENGERS_SCORED_BATCH_API\",\n",
    "        \"schema\": \"PUBLIC\",\n",
    "        \"statementType\": \"insert\",\n",
    "        \"dataStoreId\": data_connection_id, \n",
    "        \"credentialId\": credentials_id\n",
    "    }\n",
    "}"
   ]
  },
  {
   "cell_type": "code",
   "execution_count": 12,
   "metadata": {
    "ExecuteTime": {
     "end_time": "2020-03-29T09:03:14.016103Z",
     "start_time": "2020-03-29T09:03:11.145640Z"
    }
   },
   "outputs": [],
   "source": [
    "response = session.post(\n",
    "        DR_APP_HOST + '/api/v2/batchPredictions',\n",
    "        json=job_details\n",
    "    )"
   ]
  },
  {
   "cell_type": "code",
   "execution_count": 13,
   "metadata": {
    "ExecuteTime": {
     "end_time": "2020-03-29T09:03:43.838983Z",
     "start_time": "2020-03-29T09:03:14.018276Z"
    }
   },
   "outputs": [
    {
     "name": "stdout",
     "output_type": "stream",
     "text": [
      "queued batch job: https://app.datarobot.com/api/v2/batchPredictions/123456789012345678903/\n",
      "completed INITIALIZING\n",
      "completed RUNNING\n",
      "status is now COMPLETED\n"
     ]
    }
   ],
   "source": [
    "if response.status_code == 202:\n",
    "    \n",
    "    job = response.json()\n",
    "    print('queued batch job: {}'.format(job['links']['self']))\n",
    "\n",
    "    while job['status'] == 'INITIALIZING':\n",
    "        time.sleep(3)\n",
    "        response = session.get(job['links']['self'])\n",
    "        response.raise_for_status()\n",
    "        job = response.json()\n",
    "        \n",
    "    print('completed INITIALIZING')\n",
    "        \n",
    "    if job['status'] == 'RUNNING':\n",
    "\n",
    "        while job['status'] == 'RUNNING':\n",
    "            time.sleep(3)\n",
    "            response = session.get(job['links']['self'])\n",
    "            response.raise_for_status()\n",
    "            job = response.json()\n",
    "            \n",
    "    print('completed RUNNING')\n",
    "    print('status is now {status}'.format(status=job['status']))\n",
    "    \n",
    "    if job['status'] != 'COMPLETED':\n",
    "        for i in job['logs']:\n",
    "            print(i)\n",
    "    \n",
    "else:\n",
    "    \n",
    "    print('Job submission failed; http error {code}: {content}'.format(code=response.status_code, content=response.content))"
   ]
  },
  {
   "cell_type": "code",
   "execution_count": null,
   "metadata": {},
   "outputs": [],
   "source": []
  }
 ],
 "metadata": {
  "kernelspec": {
   "display_name": "Python (test_env)",
   "language": "python",
   "name": "test_env"
  },
  "language_info": {
   "codemirror_mode": {
    "name": "ipython",
    "version": 3
   },
   "file_extension": ".py",
   "mimetype": "text/x-python",
   "name": "python",
   "nbconvert_exporter": "python",
   "pygments_lexer": "ipython3",
   "version": "3.7.4"
  }
 },
 "nbformat": 4,
 "nbformat_minor": 2
}
