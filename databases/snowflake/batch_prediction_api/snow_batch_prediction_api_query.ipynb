{
 "cells": [
  {
   "cell_type": "code",
   "execution_count": null,
   "metadata": {},
   "outputs": [],
   "source": [
    "\"\"\"\n",
    "Snowflake Batch Prediction API Snowflake query scoring job\n",
    "\n",
    "v1.0 Mike Taveirne (doyouevendata) 3/21/2020\n",
    "\"\"\""
   ]
  },
  {
   "cell_type": "code",
   "execution_count": 1,
   "metadata": {
    "ExecuteTime": {
     "end_time": "2020-03-21T08:46:26.588497Z",
     "start_time": "2020-03-21T08:46:25.840636Z"
    }
   },
   "outputs": [],
   "source": [
    "import pandas as pd\n",
    "import requests\n",
    "import time\n",
    "from pandas.io.json import json_normalize\n",
    "\n",
    "import my_creds\n",
    "#from imp import reload\n",
    "#reload(my_creds)"
   ]
  },
  {
   "cell_type": "code",
   "execution_count": 2,
   "metadata": {
    "ExecuteTime": {
     "end_time": "2020-03-21T08:46:26.871015Z",
     "start_time": "2020-03-21T08:46:26.865751Z"
    }
   },
   "outputs": [],
   "source": [
    "# datarobot parameters\n",
    "API_KEY = my_creds.API_KEY\n",
    "USERNAME = my_creds.USERNAME\n",
    "DEPLOYMENT_ID = my_creds.DEPLOYMENT_ID\n",
    "DATAROBOT_KEY = my_creds.DATAROBOT_KEY\n",
    "# replace with the load balancer for your prediction instance(s)\n",
    "DR_PREDICTION_HOST = my_creds.DR_PREDICTION_HOST\n",
    "DR_APP_HOST = 'https://app.datarobot.com'\n",
    "\n",
    "DR_MODELING_HEADERS = {'Content-Type': 'application/json', 'Authorization': 'token %s' % API_KEY}\n",
    "\n",
    "headers = {'Content-Type': 'text/plain; charset=UTF-8', 'datarobot-key': DATAROBOT_KEY}\n",
    "\n",
    "url = '{dr_prediction_host}/predApi/v1.0/deployments/{deployment_id}/'\\\n",
    "          'predictions'.format(dr_prediction_host=DR_PREDICTION_HOST, deployment_id=DEPLOYMENT_ID)"
   ]
  },
  {
   "cell_type": "code",
   "execution_count": 3,
   "metadata": {
    "ExecuteTime": {
     "end_time": "2020-03-21T08:46:28.046066Z",
     "start_time": "2020-03-21T08:46:28.043706Z"
    }
   },
   "outputs": [],
   "source": [
    "# snowflake parameters\n",
    "SNOW_USER = my_creds.SNOW_USER\n",
    "SNOW_PASS = my_creds.SNOW_PASS"
   ]
  },
  {
   "cell_type": "markdown",
   "metadata": {},
   "source": [
    "### Retrieve Existing Data Connection"
   ]
  },
  {
   "cell_type": "code",
   "execution_count": 4,
   "metadata": {
    "ExecuteTime": {
     "end_time": "2020-03-21T08:46:35.143328Z",
     "start_time": "2020-03-21T08:46:33.721122Z"
    }
   },
   "outputs": [],
   "source": [
    "DATA_CONNECTION = 'snow_3_12_0_titanic'\n",
    "\n",
    "response = requests.get(\n",
    "        DR_APP_HOST + '/api/v2/externalDataStores/',\n",
    "        headers=DR_MODELING_HEADERS,\n",
    "    )\n",
    "\n",
    "df = pd.io.json.json_normalize(response.json()['data'])[['id', 'canonicalName']]\n",
    "DATA_CONNECTION_ID = df[df['canonicalName'] == DATA_CONNECTION]['id'].iloc[0]"
   ]
  },
  {
   "cell_type": "markdown",
   "metadata": {
    "ExecuteTime": {
     "end_time": "2020-03-20T17:44:02.182057Z",
     "start_time": "2020-03-20T17:44:02.177036Z"
    }
   },
   "source": [
    "### Save Credentials for Connection"
   ]
  },
  {
   "cell_type": "code",
   "execution_count": 36,
   "metadata": {
    "ExecuteTime": {
     "end_time": "2020-03-20T17:45:04.792408Z",
     "start_time": "2020-03-20T17:45:03.285631Z"
    }
   },
   "outputs": [],
   "source": [
    "json = {\n",
    "    \"credentialType\": \"basic\",\n",
    "    \"user\": my_creds.SNOW_USER,\n",
    "    \"password\": my_creds.SNOW_PASS,\n",
    "    \"name\": \"snow_community_credentials\"\n",
    "}\n",
    "\n",
    "response = requests.post(\n",
    "        url = DR_APP_HOST + '/api/v2/credentials/'\n",
    "        headers=DR_MODELING_HEADERS,\n",
    "        json=json\n",
    "    )\n",
    "\n",
    "CREDENTIALS_ID = response.json()['credentialId']"
   ]
  },
  {
   "cell_type": "markdown",
   "metadata": {
    "ExecuteTime": {
     "end_time": "2020-03-21T08:40:27.647632Z",
     "start_time": "2020-03-21T08:40:27.644075Z"
    }
   },
   "source": [
    "### Retrieve Existing Credentials"
   ]
  },
  {
   "cell_type": "code",
   "execution_count": 5,
   "metadata": {
    "ExecuteTime": {
     "end_time": "2020-03-21T08:46:38.604030Z",
     "start_time": "2020-03-21T08:46:37.267396Z"
    }
   },
   "outputs": [],
   "source": [
    "# credential lookup\n",
    "CREDENTIALS = 'snow_community_credentials'\n",
    "\n",
    "response = requests.get(\n",
    "        DR_APP_HOST + '/api/v2/credentials/',\n",
    "        headers=DR_MODELING_HEADERS,\n",
    "    )\n",
    "\n",
    "df = pd.io.json.json_normalize(response.json()['data'])[['credentialId', 'name']]\n",
    "CREDENTIALS_ID = df[df['name'] == CREDENTIALS]['credentialId'].iloc[0]"
   ]
  },
  {
   "cell_type": "markdown",
   "metadata": {
    "ExecuteTime": {
     "end_time": "2020-03-21T08:40:27.963686Z",
     "start_time": "2020-03-21T08:39:01.550Z"
    }
   },
   "source": [
    "### Creating Session and Running Batch Prediction API Job"
   ]
  },
  {
   "cell_type": "code",
   "execution_count": 6,
   "metadata": {
    "ExecuteTime": {
     "end_time": "2020-03-21T08:46:40.042602Z",
     "start_time": "2020-03-21T08:46:40.039457Z"
    }
   },
   "outputs": [],
   "source": [
    "session = requests.Session()\n",
    "session.headers = {\n",
    "    'Authorization': 'Bearer {}'.format(API_KEY),\n",
    "}"
   ]
  },
  {
   "cell_type": "code",
   "execution_count": 7,
   "metadata": {
    "ExecuteTime": {
     "end_time": "2020-03-21T08:46:40.363864Z",
     "start_time": "2020-03-21T08:46:40.359538Z"
    }
   },
   "outputs": [],
   "source": [
    "job_details = {\n",
    "    \"deploymentId\": DEPLOYMENT_ID,\n",
    "    \"numConcurrent\": 4,\n",
    "    \"passthroughColumns\": [\"PASSENGERID\"],\n",
    "    \"includeProbabilities\": True,\n",
    "    \"predictionInstance\" : {\n",
    "        \"hostName\": DR_PREDICTION_HOST,\n",
    "        \"datarobotKey\": DATAROBOT_KEY\n",
    "    },\n",
    "    \"intakeSettings\": {\n",
    "        \"type\": \"jdbc\",\n",
    "        \"fetchSize\": 100000,\n",
    "        \"dataStoreId\": DATA_CONNECTION_ID,\n",
    "        \"credentialId\": CREDENTIALS_ID,\n",
    "        #\"table\": \"PASSENGERS_500K\",\n",
    "        #\"schema\": \"PUBLIC\",\n",
    "        \"query\": \"select * from PASSENGERS\"\n",
    "    },\n",
    "    'outputSettings': {\n",
    "        \"type\": \"jdbc\",\n",
    "        \"table\": \"PASSENGERS_SCORED_BATCH_API\",\n",
    "        \"schema\": \"PUBLIC\",\n",
    "        \"statementType\": \"insert\",\n",
    "        \"dataStoreId\": DATA_CONNECTION_ID, \n",
    "        \"credentialId\": CREDENTIALS_ID\n",
    "    }\n",
    "}"
   ]
  },
  {
   "cell_type": "code",
   "execution_count": 8,
   "metadata": {
    "ExecuteTime": {
     "end_time": "2020-03-21T08:46:42.658920Z",
     "start_time": "2020-03-21T08:46:40.903948Z"
    }
   },
   "outputs": [
    {
     "name": "stdout",
     "output_type": "stream",
     "text": [
      "queued batch job: https://app.datarobot.com/api/v2/batchPredictions/1234567891234567890/\n"
     ]
    }
   ],
   "source": [
    "response = session.post(\n",
    "        DR_APP_HOST + '/api/v2/batchPredictions',\n",
    "        json=job_details\n",
    "    )\n",
    "\n",
    "job = response.json()\n",
    "print('queued batch job: {}'.format(job['links']['self']))"
   ]
  },
  {
   "cell_type": "code",
   "execution_count": 9,
   "metadata": {
    "ExecuteTime": {
     "end_time": "2020-03-21T08:47:06.865001Z",
     "start_time": "2020-03-21T08:46:42.661544Z"
    }
   },
   "outputs": [
    {
     "name": "stdout",
     "output_type": "stream",
     "text": [
      "completed INITIALIZING\n",
      "completed RUNNING\n",
      "status is now COMPLETED\n"
     ]
    }
   ],
   "source": [
    "if response.status_code == 202:\n",
    "\n",
    "    while job['status'] == 'INITIALIZING':\n",
    "        time.sleep(1)\n",
    "        response = session.get(job['links']['self'])\n",
    "        response.raise_for_status()\n",
    "        job = response.json()\n",
    "        \n",
    "    print('completed INITIALIZING')\n",
    "        \n",
    "    if job['status'] == 'RUNNING':\n",
    "\n",
    "        while job['status'] == 'RUNNING':\n",
    "            time.sleep(1)\n",
    "            response = session.get(job['links']['self'])\n",
    "            response.raise_for_status()\n",
    "            job = response.json()\n",
    "            \n",
    "    print('completed RUNNING')\n",
    "    print('status is now {status}'.format(status=job['status']))"
   ]
  },
  {
   "cell_type": "code",
   "execution_count": null,
   "metadata": {},
   "outputs": [],
   "source": []
  }
 ],
 "metadata": {
  "kernelspec": {
   "display_name": "Python (test_env)",
   "language": "python",
   "name": "test_env"
  },
  "language_info": {
   "codemirror_mode": {
    "name": "ipython",
    "version": 3
   },
   "file_extension": ".py",
   "mimetype": "text/x-python",
   "name": "python",
   "nbconvert_exporter": "python",
   "pygments_lexer": "ipython3",
   "version": "3.7.4"
  }
 },
 "nbformat": 4,
 "nbformat_minor": 2
}
