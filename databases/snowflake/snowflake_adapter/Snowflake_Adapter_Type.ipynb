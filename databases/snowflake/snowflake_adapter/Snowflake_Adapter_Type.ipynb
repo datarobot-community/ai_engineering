{
 "cells": [
  {
   "cell_type": "code",
   "execution_count": 1,
   "metadata": {
    "ExecuteTime": {
     "end_time": "2021-05-15T19:12:38.257902Z",
     "start_time": "2021-05-15T19:12:36.862598Z"
    }
   },
   "outputs": [],
   "source": [
    "\"\"\"\n",
    "Snowflake Batch Prediction API via AWS S3 Object Storage\n",
    "\n",
    "v1.0 Mike Taveirne (doyouevendata) 4/17/2021\n",
    "\"\"\"\n",
    "\n",
    "import pandas as pd\n",
    "import requests\n",
    "import time\n",
    "from pandas.io.json import json_normalize"
   ]
  },
  {
   "cell_type": "code",
   "execution_count": 2,
   "metadata": {
    "ExecuteTime": {
     "end_time": "2021-05-15T19:12:39.395085Z",
     "start_time": "2021-05-15T19:12:39.385935Z"
    }
   },
   "outputs": [],
   "source": [
    "import my_creds"
   ]
  },
  {
   "cell_type": "code",
   "execution_count": 3,
   "metadata": {
    "ExecuteTime": {
     "end_time": "2021-05-15T19:12:39.813471Z",
     "start_time": "2021-05-15T19:12:39.808616Z"
    }
   },
   "outputs": [],
   "source": [
    "# datarobot parameters\n",
    "API_KEY = my_creds.API_KEY\n",
    "USERNAME = my_creds.USERNAME\n",
    "DEPLOYMENT_ID = my_creds.DEPLOYMENT_ID\n",
    "DATAROBOT_KEY = my_creds.DATAROBOT_KEY\n",
    "# replace with the load balancer for your prediction instance(s)\n",
    "DR_PREDICTION_HOST = my_creds.DR_PREDICTION_HOST\n",
    "DR_APP_HOST = 'https://app.datarobot.com'\n",
    "\n",
    "DR_MODELING_HEADERS = {'Content-Type': 'application/json', 'Authorization': 'token %s' % API_KEY}"
   ]
  },
  {
   "cell_type": "markdown",
   "metadata": {
    "ExecuteTime": {
     "end_time": "2021-04-15T20:36:31.522380Z",
     "start_time": "2021-04-15T20:36:31.510934Z"
    }
   },
   "source": [
    "### Retrive Existing Data Connection"
   ]
  },
  {
   "cell_type": "code",
   "execution_count": 4,
   "metadata": {
    "ExecuteTime": {
     "end_time": "2021-05-15T19:12:40.699218Z",
     "start_time": "2021-05-15T19:12:40.690622Z"
    }
   },
   "outputs": [],
   "source": [
    "\"\"\"\n",
    "    get a data connection by name, return None if not found\n",
    "\"\"\"\n",
    "def dr_get_data_connection(name):\n",
    "    \n",
    "    data_connection_id = None\n",
    "\n",
    "    response = requests.get(\n",
    "            DR_APP_HOST + '/api/v2/externalDataStores/',\n",
    "            headers=DR_MODELING_HEADERS,\n",
    "        )\n",
    "\n",
    "    if response.status_code == 200:\n",
    "\n",
    "        df = pd.io.json.json_normalize(response.json()['data'])[['id', 'canonicalName']]\n",
    "\n",
    "        if df[df['canonicalName'] == name]['id'].size > 0:\n",
    "            data_connection_id = df[df['canonicalName'] == name]['id'].iloc[0]\n",
    "        \n",
    "    else:\n",
    "\n",
    "        print('Request failed; http error {code}: {content}'.format(code=response.status_code, content=response.content))\n",
    "\n",
    "    return data_connection_id"
   ]
  },
  {
   "cell_type": "code",
   "execution_count": 5,
   "metadata": {
    "ExecuteTime": {
     "end_time": "2021-05-15T19:12:43.627302Z",
     "start_time": "2021-05-15T19:12:41.156637Z"
    }
   },
   "outputs": [],
   "source": [
    "data_connection_id = dr_get_data_connection('mike_test_connection')"
   ]
  },
  {
   "cell_type": "code",
   "execution_count": 6,
   "metadata": {
    "ExecuteTime": {
     "end_time": "2021-05-15T19:12:43.638883Z",
     "start_time": "2021-05-15T19:12:43.629581Z"
    }
   },
   "outputs": [],
   "source": [
    "# get a saved credential set, return None if not found\n",
    "def dr_get_catalog_credentials(name, cred_type):\n",
    "    if cred_type not in ['basic', 's3']:\n",
    "        print('credentials type must be: basic, s3 - value passed was {ct}'.format(ct=cred_type))\n",
    "        return None\n",
    "    \n",
    "    credentials_id = None\n",
    "\n",
    "    response = requests.get(\n",
    "            DR_APP_HOST + '/api/v2/credentials/',\n",
    "            headers=DR_MODELING_HEADERS,\n",
    "        )\n",
    "\n",
    "    if response.status_code == 200:\n",
    "\n",
    "        df = pd.io.json.json_normalize(response.json()['data'])[['credentialId', 'name', 'credentialType']]\n",
    "\n",
    "        if df[(df['name'] == name) & (df['credentialType'] == cred_type)]['credentialId'].size > 0:\n",
    "            credentials_id = df[(df['name'] == name) & (df['credentialType'] == cred_type)]['credentialId'].iloc[0]\n",
    "     \n",
    "    else:\n",
    "\n",
    "        print('Request failed; http error {code}: {content}'.format(code=response.status_code, content=response.content))\n",
    "\n",
    "    return credentials_id"
   ]
  },
  {
   "cell_type": "code",
   "execution_count": 7,
   "metadata": {
    "ExecuteTime": {
     "end_time": "2021-05-15T19:12:43.654816Z",
     "start_time": "2021-05-15T19:12:43.641847Z"
    }
   },
   "outputs": [],
   "source": [
    "# create credentials set\n",
    "def dr_create_catalog_credentials(name, cred_type, user, password, token=None):\n",
    "    if cred_type not in ['basic', 's3']:\n",
    "        print('credentials type must be: basic, s3 - value passed was {ct}'.format(ct=cred_type))\n",
    "        return None\n",
    "    \n",
    "    if cred_type == 'basic':  \n",
    "        json = {\n",
    "            \"credentialType\": cred_type,\n",
    "            \"user\": user,\n",
    "            \"password\": password,\n",
    "            \"name\": name\n",
    "        }\n",
    "    elif cred_type == 's3' and token != None:  \n",
    "        json = {\n",
    "            \"credentialType\": cred_type,\n",
    "            \"awsAccessKeyId\": user,\n",
    "            \"awsSecretAccessKey\": password,\n",
    "            \"awsSessionToken\": token,\n",
    "            \"name\": name\n",
    "        }\n",
    "    elif cred_type == 's3' and token == None:  \n",
    "        json = {\n",
    "            \"credentialType\": cred_type,\n",
    "            \"awsAccessKeyId\": user,\n",
    "            \"awsSecretAccessKey\": password,\n",
    "            \"name\": name\n",
    "        }\n",
    "        \n",
    "    response = requests.post(\n",
    "        url = DR_APP_HOST + '/api/v2/credentials/',\n",
    "        headers=DR_MODELING_HEADERS,\n",
    "        json=json\n",
    "    )\n",
    "    \n",
    "    if response.status_code == 201:\n",
    "\n",
    "        return response.json()['credentialId']\n",
    "        \n",
    "    else:\n",
    "\n",
    "        print('Request failed; http error {code}: {content}'.format(code=response.status_code, content=response.content))"
   ]
  },
  {
   "cell_type": "code",
   "execution_count": 8,
   "metadata": {
    "ExecuteTime": {
     "end_time": "2021-05-15T19:12:43.663724Z",
     "start_time": "2021-05-15T19:12:43.657921Z"
    }
   },
   "outputs": [],
   "source": [
    "def dr_get_or_create_catalog_credentials(name, cred_type, user, password, token=None):\n",
    "    cred_id = dr_get_catalog_credentials(name, cred_type)\n",
    "    \n",
    "    if cred_id == None:\n",
    "        return dr_create_catalog_credentials(name, cred_type, user, password, token=None)\n",
    "    else:\n",
    "        return cred_id"
   ]
  },
  {
   "cell_type": "markdown",
   "metadata": {
    "ExecuteTime": {
     "end_time": "2021-04-15T20:44:25.030501Z",
     "start_time": "2021-04-15T20:44:25.027036Z"
    }
   },
   "source": [
    "### Retrieve or Create Snowflake Credentials"
   ]
  },
  {
   "cell_type": "code",
   "execution_count": 9,
   "metadata": {
    "ExecuteTime": {
     "end_time": "2021-05-15T19:12:45.639136Z",
     "start_time": "2021-05-15T19:12:43.665640Z"
    }
   },
   "outputs": [],
   "source": [
    "snow_credentials_id = dr_get_or_create_catalog_credentials('mike_test_connection_creds', \n",
    "                                                      'basic', my_creds.SNOW_USER, my_creds.SNOW_PASS)"
   ]
  },
  {
   "cell_type": "markdown",
   "metadata": {},
   "source": [
    "### Retrieve or Create S3 Credentials"
   ]
  },
  {
   "cell_type": "code",
   "execution_count": 10,
   "metadata": {
    "ExecuteTime": {
     "end_time": "2021-05-15T19:12:47.240267Z",
     "start_time": "2021-05-15T19:12:45.641188Z"
    }
   },
   "outputs": [],
   "source": [
    "s3_credentials_id = dr_get_or_create_catalog_credentials('s3_community', \n",
    "                                                      's3', my_creds.SNOW_USER, my_creds.SNOW_PASS)"
   ]
  },
  {
   "cell_type": "markdown",
   "metadata": {},
   "source": [
    "### Create DataRobot Session to Process Job"
   ]
  },
  {
   "cell_type": "code",
   "execution_count": 11,
   "metadata": {
    "ExecuteTime": {
     "end_time": "2021-05-15T19:12:47.247602Z",
     "start_time": "2021-05-15T19:12:47.242806Z"
    }
   },
   "outputs": [],
   "source": [
    "session = requests.Session()\n",
    "session.headers = {\n",
    "    'Authorization': 'Bearer {}'.format(API_KEY)\n",
    "}"
   ]
  },
  {
   "cell_type": "markdown",
   "metadata": {},
   "source": [
    "### Create Snowflake JDBC Source to S3 Target + Snowflake Bulk Load Job"
   ]
  },
  {
   "cell_type": "code",
   "execution_count": 12,
   "metadata": {
    "ExecuteTime": {
     "end_time": "2021-05-15T19:12:47.259612Z",
     "start_time": "2021-05-15T19:12:47.250055Z"
    }
   },
   "outputs": [],
   "source": [
    "job_details = {\n",
    "    \"deploymentId\": DEPLOYMENT_ID,\n",
    "    \"numConcurrent\": 16,\n",
    "    \"passthroughColumns\": [\"PASSENGERID\"],\n",
    "    \"includeProbabilities\": True,\n",
    "    \"predictionInstance\" : {\n",
    "        \"hostName\": DR_PREDICTION_HOST,\n",
    "        \"datarobotKey\": DATAROBOT_KEY\n",
    "    },\n",
    "    \"intakeSettings\": {\n",
    "        \"type\": \"jdbc\",\n",
    "        #\"fetchSize\": 100000,\n",
    "        \"dataStoreId\": data_connection_id,\n",
    "        \"credentialId\": snow_credentials_id,\n",
    "        \"table\": \"PASSENGERS_6M\",\n",
    "        \"schema\": \"PUBLIC\",\n",
    "        #\"query\": \"select * from passengers_3m_clean\"\n",
    "    },\n",
    "    'outputSettings': {\n",
    "        \"type\": \"snowflake\",\n",
    "        \"externalStage\": \"S3_SUPPORT\",\n",
    "        \"dataStoreId\": data_connection_id,\n",
    "        \"credentialId\": snow_credentials_id,\n",
    "        \"table\": \"PASSENGERS_SCORED_BATCH_API\",\n",
    "        \"schema\": \"PUBLIC\",\n",
    "        \"cloudStorageType\": \"s3\",\n",
    "        \"cloudStorageCredentialId\": s3_credentials_id,\n",
    "        \"statementType\": \"insert\"\n",
    "    }\n",
    "}"
   ]
  },
  {
   "cell_type": "code",
   "execution_count": 13,
   "metadata": {
    "ExecuteTime": {
     "end_time": "2021-05-15T19:19:38.852766Z",
     "start_time": "2021-05-15T19:12:47.264529Z"
    }
   },
   "outputs": [
    {
     "name": "stdout",
     "output_type": "stream",
     "text": [
      "queued batch job: https://app.datarobot.com/api/v2/batchPredictions/60a01d30622011bb0d980cf8/\n",
      "completed INITIALIZING\n",
      "completed RUNNING\n",
      "status is now COMPLETED\n"
     ]
    }
   ],
   "source": [
    "response = session.post(\n",
    "        DR_APP_HOST + '/api/v2/batchPredictions',\n",
    "        json=job_details\n",
    "    )\n",
    "\n",
    "if response.status_code == 202:\n",
    "    \n",
    "    job = response.json()\n",
    "    print('queued batch job: {}'.format(job['links']['self']))\n",
    "\n",
    "    while job['status'] == 'INITIALIZING':\n",
    "        time.sleep(3)\n",
    "        response = session.get(job['links']['self'])\n",
    "        response.raise_for_status()\n",
    "        job = response.json()\n",
    "        \n",
    "    print('completed INITIALIZING')\n",
    "        \n",
    "    if job['status'] == 'RUNNING':\n",
    "\n",
    "        while job['status'] == 'RUNNING':\n",
    "            time.sleep(3)\n",
    "            response = session.get(job['links']['self'])\n",
    "            response.raise_for_status()\n",
    "            job = response.json()\n",
    "            \n",
    "    print('completed RUNNING')\n",
    "    print('status is now {status}'.format(status=job['status']))\n",
    "    \n",
    "    if job['status'] != 'COMPLETED':\n",
    "        for i in job['logs']:\n",
    "            print(i)\n",
    "    \n",
    "else:\n",
    "    \n",
    "    print('Job submission failed; http error {code}: {content}'.format(code=response.status_code, content=response.content))"
   ]
  },
  {
   "cell_type": "markdown",
   "metadata": {},
   "source": [
    "### Create Snowflake + S3 Source to S3 Target + Snowflake Bulk Load Job"
   ]
  },
  {
   "cell_type": "code",
   "execution_count": 14,
   "metadata": {
    "ExecuteTime": {
     "end_time": "2021-05-15T19:19:38.862140Z",
     "start_time": "2021-05-15T19:19:38.855759Z"
    }
   },
   "outputs": [],
   "source": [
    "job_details = {\n",
    "    \"deploymentId\": DEPLOYMENT_ID,\n",
    "    \"numConcurrent\": 16,\n",
    "    \"chunkSize\": \"dynamic\",\n",
    "    \"passthroughColumns\": [\"PASSENGERID\"],\n",
    "    \"includeProbabilities\": True,\n",
    "    \"predictionInstance\" : {\n",
    "        \"hostName\": DR_PREDICTION_HOST,\n",
    "        \"datarobotKey\": DATAROBOT_KEY\n",
    "    },\n",
    "    \"intakeSettings\": {\n",
    "        \"type\": \"snowflake\",\n",
    "        \"externalStage\": \"S3_SUPPORT\",\n",
    "        \"dataStoreId\": data_connection_id,\n",
    "        \"credentialId\": snow_credentials_id,\n",
    "        #\"table\": \"PASSENGERS_500K\",\n",
    "        #\"schema\": \"PUBLIC\",\n",
    "        #\"query\": \"select * from passengers_3m_clean\",\n",
    "        \"query\": \"select * from PASSENGERS_6m\",\n",
    "        \"cloudStorageType\": \"s3\",\n",
    "        \"cloudStorageCredentialId\": s3_credentials_id\n",
    "    },\n",
    "    'outputSettings': {\n",
    "        \"type\": \"snowflake\",\n",
    "        \"externalStage\": \"S3_SUPPORT\",\n",
    "        \"dataStoreId\": data_connection_id,\n",
    "        \"credentialId\": snow_credentials_id,\n",
    "        \"table\": \"PASSENGERS_SCORED_BATCH_API\",\n",
    "        \"schema\": \"PUBLIC\",\n",
    "        \"cloudStorageType\": \"s3\",\n",
    "        \"cloudStorageCredentialId\": s3_credentials_id,\n",
    "        \"statementType\": \"insert\"\n",
    "    }\n",
    "}"
   ]
  },
  {
   "cell_type": "code",
   "execution_count": 15,
   "metadata": {
    "ExecuteTime": {
     "end_time": "2021-05-15T19:22:02.684702Z",
     "start_time": "2021-05-15T19:19:38.864834Z"
    }
   },
   "outputs": [
    {
     "name": "stdout",
     "output_type": "stream",
     "text": [
      "queued batch job: https://app.datarobot.com/api/v2/batchPredictions/60a01ecb3f058231ef4a9509/\n",
      "completed INITIALIZING\n",
      "completed RUNNING\n",
      "status is now COMPLETED\n"
     ]
    }
   ],
   "source": [
    "response = session.post(\n",
    "        DR_APP_HOST + '/api/v2/batchPredictions',\n",
    "        json=job_details\n",
    "    )\n",
    "\n",
    "if response.status_code == 202:\n",
    "    \n",
    "    job = response.json()\n",
    "    print('queued batch job: {}'.format(job['links']['self']))\n",
    "\n",
    "    while job['status'] == 'INITIALIZING':\n",
    "        time.sleep(3)\n",
    "        response = session.get(job['links']['self'])\n",
    "        response.raise_for_status()\n",
    "        job = response.json()\n",
    "        \n",
    "    print('completed INITIALIZING')\n",
    "        \n",
    "    if job['status'] == 'RUNNING':\n",
    "\n",
    "        while job['status'] == 'RUNNING':\n",
    "            time.sleep(3)\n",
    "            response = session.get(job['links']['self'])\n",
    "            response.raise_for_status()\n",
    "            job = response.json()\n",
    "            \n",
    "    print('completed RUNNING')\n",
    "    print('status is now {status}'.format(status=job['status']))\n",
    "    \n",
    "    if job['status'] != 'COMPLETED':\n",
    "        for i in job['logs']:\n",
    "            print(i)\n",
    "    \n",
    "else:\n",
    "    \n",
    "    print('Job submission failed; http error {code}: {content}'.format(code=response.status_code, content=response.content))"
   ]
  },
  {
   "cell_type": "code",
   "execution_count": null,
   "metadata": {},
   "outputs": [],
   "source": []
  }
 ],
 "metadata": {
  "kernelspec": {
   "display_name": "Python (test_env)",
   "language": "python",
   "name": "test_env"
  },
  "language_info": {
   "codemirror_mode": {
    "name": "ipython",
    "version": 3
   },
   "file_extension": ".py",
   "mimetype": "text/x-python",
   "name": "python",
   "nbconvert_exporter": "python",
   "pygments_lexer": "ipython3",
   "version": "3.7.4"
  }
 },
 "nbformat": 4,
 "nbformat_minor": 2
}
