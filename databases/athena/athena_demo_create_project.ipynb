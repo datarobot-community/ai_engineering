{
 "cells": [
  {
   "cell_type": "code",
   "execution_count": 1,
   "metadata": {
    "ExecuteTime": {
     "end_time": "2020-04-20T04:13:39.612162Z",
     "start_time": "2020-04-20T04:13:38.143639Z"
    }
   },
   "outputs": [],
   "source": [
    "import datarobot as dr\n",
    "import pandas as pd\n",
    "import boto3\n",
    "import time\n",
    "import os\n",
    "\n",
    "import my_creds"
   ]
  },
  {
   "cell_type": "markdown",
   "metadata": {},
   "source": [
    "### Establish DataRobot Environment Connectivty"
   ]
  },
  {
   "cell_type": "code",
   "execution_count": 2,
   "metadata": {
    "ExecuteTime": {
     "end_time": "2020-04-20T04:13:43.254334Z",
     "start_time": "2020-04-20T04:13:40.271101Z"
    }
   },
   "outputs": [
    {
     "data": {
      "text/plain": [
       "<datarobot.rest.RESTClientObject at 0x121d73310>"
      ]
     },
     "execution_count": 2,
     "metadata": {},
     "output_type": "execute_result"
    }
   ],
   "source": [
    "DR_APP_ENDPOINT = 'https://app.datarobot.com' + '/api/v2/'\n",
    "API_TOKEN = my_creds.DR_API_TOKEN\n",
    "\n",
    "dr.Client(token=API_TOKEN, endpoint=DR_APP_ENDPOINT)"
   ]
  },
  {
   "cell_type": "markdown",
   "metadata": {
    "ExecuteTime": {
     "end_time": "2020-04-19T10:01:01.973709Z",
     "start_time": "2020-04-19T10:01:01.969386Z"
    }
   },
   "source": [
    "### Establish AWS Environment Connectivty\n",
    "Establish connection to AWS using credentials in ~/.aws/credentials\n",
    "Rather than the default profile, the [support] profile from the credentials file is loaded below."
   ]
  },
  {
   "cell_type": "code",
   "execution_count": 3,
   "metadata": {
    "ExecuteTime": {
     "end_time": "2020-04-20T04:13:43.292588Z",
     "start_time": "2020-04-20T04:13:43.258317Z"
    }
   },
   "outputs": [],
   "source": [
    "session = boto3.Session(profile_name='support')"
   ]
  },
  {
   "cell_type": "markdown",
   "metadata": {
    "ExecuteTime": {
     "end_time": "2020-04-19T10:43:57.471029Z",
     "start_time": "2020-04-19T10:43:57.460788Z"
    }
   },
   "source": [
    "#### Athena Helper Functions\n",
    "Based on https://gist.github.com/schledererj/b2e2a800998d61af2bbdd1cd50e08b76\n",
    "\n",
    "fetchall_athena_sql - return dictionary of query results to local environment\n",
    "\n",
    "fetch_athena_file - download results file to local environment"
   ]
  },
  {
   "cell_type": "markdown",
   "metadata": {},
   "source": [
    "### Create Project from Paginated SQL Results"
   ]
  },
  {
   "cell_type": "code",
   "execution_count": 4,
   "metadata": {
    "ExecuteTime": {
     "end_time": "2020-04-20T04:13:43.306887Z",
     "start_time": "2020-04-20T04:13:43.296476Z"
    }
   },
   "outputs": [],
   "source": [
    "# query_string: a SQL-like query that Athena will execute\n",
    "# client: an Athena client created with boto3\n",
    "# db: database name\n",
    "# s3_out_loc: s3 output location\n",
    "def fetchall_athena_sql(query_string, client, db, s3_out_loc):\n",
    "    query_id = client.start_query_execution(\n",
    "        QueryString=query_string,\n",
    "        QueryExecutionContext={\n",
    "            'Database': db\n",
    "        },\n",
    "        ResultConfiguration={\n",
    "            'OutputLocation': s3_out_loc\n",
    "        }\n",
    "    )['QueryExecutionId']\n",
    "    \n",
    "    query_status = None\n",
    "    \n",
    "    while query_status == 'QUEUED' or query_status == 'RUNNING' or query_status is None:\n",
    "        query_status = client.get_query_execution(QueryExecutionId=query_id)['QueryExecution']['Status']['State']\n",
    "        if query_status == 'FAILED' or query_status == 'CANCELLED':\n",
    "            raise Exception('Athena query with the string \"{}\" failed or was cancelled'.format(query_string))\n",
    "        time.sleep(10)\n",
    "        \n",
    "    results_paginator = client.get_paginator('get_query_results')\n",
    "    results_iter = results_paginator.paginate(\n",
    "        QueryExecutionId=query_id,\n",
    "        PaginationConfig={\n",
    "            'PageSize': 1000\n",
    "        }\n",
    "    )\n",
    "\n",
    "    results = []\n",
    "    column_names = None\n",
    "    for results_page in results_iter:\n",
    "        for row in results_page['ResultSet']['Rows']:\n",
    "           column_values = [col.get('VarCharValue', None) for col in row['Data']]\n",
    "           if not column_names:\n",
    "               column_names = column_values\n",
    "           else:\n",
    "               results.append(dict(zip(column_names, column_values)))\n",
    "    return results"
   ]
  },
  {
   "cell_type": "code",
   "execution_count": 5,
   "metadata": {
    "ExecuteTime": {
     "end_time": "2020-04-20T04:14:15.589960Z",
     "start_time": "2020-04-20T04:13:43.556695Z"
    }
   },
   "outputs": [],
   "source": [
    "athena_client = session.client('athena')\n",
    "database = 'community_athena_demo_db'\n",
    "s3_out = 's3://engineering/athena/output/'\n",
    "query = \"select * from loan_history limit 100\"\n",
    "\n",
    "query_results = fetchall_athena_sql(query, athena_client, database, s3_out)"
   ]
  },
  {
   "cell_type": "code",
   "execution_count": 6,
   "metadata": {
    "ExecuteTime": {
     "end_time": "2020-04-20T04:14:15.638760Z",
     "start_time": "2020-04-20T04:14:15.593686Z"
    }
   },
   "outputs": [
    {
     "data": {
      "text/html": [
       "<div>\n",
       "<style scoped>\n",
       "    .dataframe tbody tr th:only-of-type {\n",
       "        vertical-align: middle;\n",
       "    }\n",
       "\n",
       "    .dataframe tbody tr th {\n",
       "        vertical-align: top;\n",
       "    }\n",
       "\n",
       "    .dataframe thead th {\n",
       "        text-align: right;\n",
       "    }\n",
       "</style>\n",
       "<table border=\"1\" class=\"dataframe\">\n",
       "  <thead>\n",
       "    <tr style=\"text-align: right;\">\n",
       "      <th></th>\n",
       "      <th>loan_id</th>\n",
       "      <th>loan_app_date</th>\n",
       "      <th>loan_amnt</th>\n",
       "      <th>funded_amnt</th>\n",
       "      <th>term</th>\n",
       "      <th>int_rate</th>\n",
       "      <th>installment</th>\n",
       "      <th>grade</th>\n",
       "      <th>sub_grade</th>\n",
       "      <th>emp_title</th>\n",
       "      <th>...</th>\n",
       "      <th>purpose</th>\n",
       "      <th>title</th>\n",
       "      <th>zip_code</th>\n",
       "      <th>addr_state</th>\n",
       "      <th>dti</th>\n",
       "      <th>initial_list_status</th>\n",
       "      <th>policy_code</th>\n",
       "      <th>is_bad</th>\n",
       "      <th>year</th>\n",
       "      <th>month</th>\n",
       "    </tr>\n",
       "  </thead>\n",
       "  <tbody>\n",
       "    <tr>\n",
       "      <td>0</td>\n",
       "      <td>10001</td>\n",
       "      <td>+47994-03-21 00:00:00.000</td>\n",
       "      <td>16300</td>\n",
       "      <td>16200</td>\n",
       "      <td>60 months</td>\n",
       "      <td>7.29%</td>\n",
       "      <td>416.48</td>\n",
       "      <td>A</td>\n",
       "      <td>A4</td>\n",
       "      <td>Time Warner Cable</td>\n",
       "      <td>...</td>\n",
       "      <td>medical</td>\n",
       "      <td>Medical</td>\n",
       "      <td>766xx</td>\n",
       "      <td>TX</td>\n",
       "      <td>10.87</td>\n",
       "      <td>f</td>\n",
       "      <td>1</td>\n",
       "      <td>0</td>\n",
       "      <td>2016</td>\n",
       "      <td>1</td>\n",
       "    </tr>\n",
       "    <tr>\n",
       "      <td>1</td>\n",
       "      <td>10002</td>\n",
       "      <td>+47996-12-15 00:00:00.000</td>\n",
       "      <td>9100</td>\n",
       "      <td>9300</td>\n",
       "      <td>60 months</td>\n",
       "      <td>18.25%</td>\n",
       "      <td>277.15</td>\n",
       "      <td>F</td>\n",
       "      <td>F1</td>\n",
       "      <td>Ottawa University</td>\n",
       "      <td>...</td>\n",
       "      <td>debt_consolidation</td>\n",
       "      <td>My Debt Consolidation Loan</td>\n",
       "      <td>660xx</td>\n",
       "      <td>KS</td>\n",
       "      <td>9.15</td>\n",
       "      <td>f</td>\n",
       "      <td>1</td>\n",
       "      <td>0</td>\n",
       "      <td>2016</td>\n",
       "      <td>1</td>\n",
       "    </tr>\n",
       "  </tbody>\n",
       "</table>\n",
       "<p>2 rows × 27 columns</p>\n",
       "</div>"
      ],
      "text/plain": [
       "  loan_id              loan_app_date loan_amnt funded_amnt        term  \\\n",
       "0   10001  +47994-03-21 00:00:00.000     16300       16200   60 months   \n",
       "1   10002  +47996-12-15 00:00:00.000      9100        9300   60 months   \n",
       "\n",
       "  int_rate installment grade sub_grade          emp_title  ...  \\\n",
       "0    7.29%      416.48     A        A4  Time Warner Cable  ...   \n",
       "1   18.25%      277.15     F        F1  Ottawa University  ...   \n",
       "\n",
       "              purpose                       title zip_code addr_state    dti  \\\n",
       "0             medical                     Medical    766xx         TX  10.87   \n",
       "1  debt_consolidation  My Debt Consolidation Loan    660xx         KS   9.15   \n",
       "\n",
       "  initial_list_status policy_code is_bad  year month  \n",
       "0                   f           1      0  2016     1  \n",
       "1                   f           1      0  2016     1  \n",
       "\n",
       "[2 rows x 27 columns]"
      ]
     },
     "execution_count": 6,
     "metadata": {},
     "output_type": "execute_result"
    }
   ],
   "source": [
    "# convert to dataframe to view and manipulate\n",
    "df = pd.DataFrame(query_results) \n",
    "df.head(2)"
   ]
  },
  {
   "cell_type": "code",
   "execution_count": 7,
   "metadata": {
    "ExecuteTime": {
     "end_time": "2020-04-20T04:14:53.672409Z",
     "start_time": "2020-04-20T04:14:15.641737Z"
    }
   },
   "outputs": [
    {
     "name": "stdout",
     "output_type": "stream",
     "text": [
      "https://app.datarobot.com/projects/5e9044e1e2c1\n"
     ]
    }
   ],
   "source": [
    "proj = dr.Project.create(sourcedata=df,\n",
    "    project_name='athena load query')\n",
    "\n",
    "# further work with project via the python API, or work in GUI (link to project printed below)\n",
    "print(DR_APP_ENDPOINT[:-7] + 'projects/{}'.format(proj.id))"
   ]
  },
  {
   "cell_type": "markdown",
   "metadata": {},
   "source": [
    "### Create Project from Downloaded Query Results in S3"
   ]
  },
  {
   "cell_type": "code",
   "execution_count": 8,
   "metadata": {
    "ExecuteTime": {
     "end_time": "2020-04-20T04:16:09.672287Z",
     "start_time": "2020-04-20T04:16:09.665838Z"
    }
   },
   "outputs": [],
   "source": [
    "# query_string: a SQL-like query that Athena will execute\n",
    "# ath_client: an Athena client created with boto3\n",
    "# db: database name\n",
    "# s3_out_loc: s3 output location\n",
    "# s3_client: an S3 client created with boto3\n",
    "# loc_path: path to store file locally\n",
    "def fetch_athena_file(query_string, ath_client, db, s3_out_loc, s3_client, loc_path):\n",
    "    query_id = ath_client.start_query_execution(\n",
    "        QueryString=query_string,\n",
    "        QueryExecutionContext={\n",
    "            'Database': db\n",
    "        },\n",
    "        ResultConfiguration={\n",
    "            'OutputLocation': s3_out_loc\n",
    "        }\n",
    "    )['QueryExecutionId']\n",
    "    \n",
    "    query_status = None\n",
    "    \n",
    "    while query_status == 'QUEUED' or query_status == 'RUNNING' or query_status is None:\n",
    "        ath_result = ath_client.get_query_execution(QueryExecutionId=query_id)\n",
    "        query_status = ath_result['QueryExecution']['Status']['State']\n",
    "        if query_status == 'FAILED' or query_status == 'CANCELLED':\n",
    "            raise Exception('Athena query with the string \"{}\" failed or was cancelled'.format(query_string))\n",
    "        time.sleep(10)\n",
    "\n",
    "    s3_file = ath_result['QueryExecution']['ResultConfiguration']['OutputLocation']\n",
    "        \n",
    "    head, tail = os.path.split(s3_file)\n",
    "        \n",
    "    return tail"
   ]
  },
  {
   "cell_type": "code",
   "execution_count": 9,
   "metadata": {
    "ExecuteTime": {
     "end_time": "2020-04-20T04:16:37.477567Z",
     "start_time": "2020-04-20T04:16:11.133763Z"
    }
   },
   "outputs": [],
   "source": [
    "athena_client = session.client('athena')\n",
    "s3_client = session.client('s3')\n",
    "database = 'community_athena_demo_db'\n",
    "s3_out_bucket = 'engineering'\n",
    "s3_out_path = 'athena/output/'\n",
    "s3_out = 's3://' + s3_out_bucket + '/' + s3_out_path\n",
    "local_path = '/Users/mike/Documents/community/'\n",
    "local_path = !pwd\n",
    "local_path = local_path[0]\n",
    "\n",
    "query = \"select lh.loan_id, \" \\\n",
    "    \"lh.loan_amnt, lh.term, lh.int_rate, lh.installment, lh.grade, lh.sub_grade, \" \\\n",
    "    \"lh.emp_title, lh.emp_length, lh.home_ownership, lh.annual_inc, lh.verification_status,  \" \\\n",
    "    \"lh.pymnt_plan, lh.purpose, lh.title, lh.zip_code, lh.addr_state, lh.dti,  \" \\\n",
    "    \"lh.installment / (lh.annual_inc / 12) as mnthly_paymt_to_income_ratio, \" \\\n",
    "    \"lh.is_bad, \" \\\n",
    "    \"lc.delinq_2yrs, lc.earliest_cr_line, lc.inq_last_6mths, lc.mths_since_last_delinq, lc.mths_since_last_record, \" \\\n",
    "    \"lc.open_acc, lc.pub_rec, lc.revol_bal, lc.revol_util, lc.total_acc, lc.mths_since_last_major_derog \" \\\n",
    "    \"from community_athena_demo_db.loan_credit lc \" \\\n",
    "    \"join community_athena_demo_db.loan_history lh on lc.loan_id = lh.loan_id\"\n",
    "\n",
    "s3_file = fetch_athena_file(query, athena_client, database, s3_out, s3_client, local_path)"
   ]
  },
  {
   "cell_type": "code",
   "execution_count": 10,
   "metadata": {
    "ExecuteTime": {
     "end_time": "2020-04-20T04:17:58.605839Z",
     "start_time": "2020-04-20T04:16:37.480678Z"
    }
   },
   "outputs": [
    {
     "name": "stdout",
     "output_type": "stream",
     "text": [
      "https://app.datarobot.com/projects/04d0b2fa41\n"
     ]
    }
   ],
   "source": [
    "# get results file from S3\n",
    "s3_client.download_file(s3_out_bucket, s3_out_path + s3_file, local_path + '/' + s3_file)\n",
    "\n",
    "proj = dr.Project.create(local_path + '/' + s3_file,\n",
    "    project_name='athena load file')\n",
    "\n",
    "# further work with project via the python API, or work in GUI (link to project printed below)\n",
    "print(DR_APP_ENDPOINT[:-7] + 'projects/{}'.format(proj.id))"
   ]
  },
  {
   "cell_type": "markdown",
   "metadata": {
    "ExecuteTime": {
     "end_time": "2020-04-20T02:30:14.711029Z",
     "start_time": "2020-04-20T02:30:14.701963Z"
    }
   },
   "source": [
    "### Create Project from Signed S3 URL"
   ]
  },
  {
   "cell_type": "code",
   "execution_count": 11,
   "metadata": {
    "ExecuteTime": {
     "end_time": "2020-04-20T04:18:03.880301Z",
     "start_time": "2020-04-20T04:18:03.873623Z"
    }
   },
   "outputs": [],
   "source": [
    "response = s3_client.generate_presigned_url('get_object',\n",
    "    Params={'Bucket': s3_out_bucket,\n",
    "            'Key': s3_out_path + s3_file},\n",
    "    ExpiresIn=3600)"
   ]
  },
  {
   "cell_type": "code",
   "execution_count": 12,
   "metadata": {
    "ExecuteTime": {
     "end_time": "2020-04-20T04:18:44.689039Z",
     "start_time": "2020-04-20T04:18:08.583319Z"
    }
   },
   "outputs": [
    {
     "name": "stdout",
     "output_type": "stream",
     "text": [
      "https://app.datarobot.com/projects/5ef04c2af1967\n"
     ]
    }
   ],
   "source": [
    "proj = dr.Project.create(response,\n",
    "    project_name='athena signed url')\n",
    "\n",
    "# further work with project via the python API, or work in GUI (link to project printed below)\n",
    "print(DR_APP_ENDPOINT[:-7] + 'projects/{}'.format(proj.id))"
   ]
  },
  {
   "cell_type": "code",
   "execution_count": null,
   "metadata": {},
   "outputs": [],
   "source": []
  }
 ],
 "metadata": {
  "kernelspec": {
   "display_name": "Python (test_env)",
   "language": "python",
   "name": "test_env"
  },
  "language_info": {
   "codemirror_mode": {
    "name": "ipython",
    "version": 3
   },
   "file_extension": ".py",
   "mimetype": "text/x-python",
   "name": "python",
   "nbconvert_exporter": "python",
   "pygments_lexer": "ipython3",
   "version": "3.7.4"
  }
 },
 "nbformat": 4,
 "nbformat_minor": 2
}
