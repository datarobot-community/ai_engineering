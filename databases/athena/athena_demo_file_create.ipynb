{
 "cells": [
  {
   "cell_type": "code",
   "execution_count": 70,
   "metadata": {
    "ExecuteTime": {
     "end_time": "2020-01-31T02:19:03.552569Z",
     "start_time": "2020-01-31T02:19:03.547672Z"
    }
   },
   "outputs": [],
   "source": [
    "import pandas as pd\n",
    "import pyarrow as pa\n",
    "import pyarrow.parquet as pq"
   ]
  },
  {
   "cell_type": "code",
   "execution_count": 76,
   "metadata": {
    "ExecuteTime": {
     "end_time": "2020-01-31T02:21:22.213701Z",
     "start_time": "2020-01-31T02:21:21.975332Z"
    }
   },
   "outputs": [],
   "source": [
    "df_in = pd.read_csv('20K_Lending_Club_Loans_base.csv', parse_dates=['loan_app_date'])"
   ]
  },
  {
   "cell_type": "code",
   "execution_count": 77,
   "metadata": {
    "ExecuteTime": {
     "end_time": "2020-01-31T02:21:22.370886Z",
     "start_time": "2020-01-31T02:21:22.215449Z"
    }
   },
   "outputs": [
    {
     "data": {
      "text/html": [
       "<div>\n",
       "<style scoped>\n",
       "    .dataframe tbody tr th:only-of-type {\n",
       "        vertical-align: middle;\n",
       "    }\n",
       "\n",
       "    .dataframe tbody tr th {\n",
       "        vertical-align: top;\n",
       "    }\n",
       "\n",
       "    .dataframe thead th {\n",
       "        text-align: right;\n",
       "    }\n",
       "</style>\n",
       "<table border=\"1\" class=\"dataframe\">\n",
       "  <thead>\n",
       "    <tr style=\"text-align: right;\">\n",
       "      <th></th>\n",
       "      <th>loan_id</th>\n",
       "      <th>loan_app_date</th>\n",
       "      <th>loan_amnt</th>\n",
       "      <th>funded_amnt</th>\n",
       "      <th>term</th>\n",
       "      <th>int_rate</th>\n",
       "      <th>installment</th>\n",
       "      <th>grade</th>\n",
       "      <th>sub_grade</th>\n",
       "      <th>emp_title</th>\n",
       "      <th>...</th>\n",
       "      <th>pub_rec</th>\n",
       "      <th>revol_bal</th>\n",
       "      <th>revol_util</th>\n",
       "      <th>total_acc</th>\n",
       "      <th>initial_list_status</th>\n",
       "      <th>mths_since_last_major_derog</th>\n",
       "      <th>policy_code</th>\n",
       "      <th>is_bad</th>\n",
       "      <th>year</th>\n",
       "      <th>month</th>\n",
       "    </tr>\n",
       "  </thead>\n",
       "  <tbody>\n",
       "    <tr>\n",
       "      <td>0</td>\n",
       "      <td>1</td>\n",
       "      <td>2016-01-10</td>\n",
       "      <td>4000</td>\n",
       "      <td>4000</td>\n",
       "      <td>60 months</td>\n",
       "      <td>7.29%</td>\n",
       "      <td>79.76</td>\n",
       "      <td>A</td>\n",
       "      <td>A4</td>\n",
       "      <td>Time Warner Cable</td>\n",
       "      <td>...</td>\n",
       "      <td>0.0</td>\n",
       "      <td>12087</td>\n",
       "      <td>12.1</td>\n",
       "      <td>44.0</td>\n",
       "      <td>f</td>\n",
       "      <td>NaN</td>\n",
       "      <td>1</td>\n",
       "      <td>0</td>\n",
       "      <td>2016</td>\n",
       "      <td>1</td>\n",
       "    </tr>\n",
       "    <tr>\n",
       "      <td>1</td>\n",
       "      <td>2</td>\n",
       "      <td>2016-01-11</td>\n",
       "      <td>16000</td>\n",
       "      <td>16000</td>\n",
       "      <td>60 months</td>\n",
       "      <td>18.25%</td>\n",
       "      <td>408.48</td>\n",
       "      <td>F</td>\n",
       "      <td>F1</td>\n",
       "      <td>Ottawa University</td>\n",
       "      <td>...</td>\n",
       "      <td>0.0</td>\n",
       "      <td>10114</td>\n",
       "      <td>64.0</td>\n",
       "      <td>5.0</td>\n",
       "      <td>f</td>\n",
       "      <td>NaN</td>\n",
       "      <td>1</td>\n",
       "      <td>0</td>\n",
       "      <td>2016</td>\n",
       "      <td>1</td>\n",
       "    </tr>\n",
       "    <tr>\n",
       "      <td>2</td>\n",
       "      <td>3</td>\n",
       "      <td>2016-01-12</td>\n",
       "      <td>8700</td>\n",
       "      <td>8700</td>\n",
       "      <td>36 months</td>\n",
       "      <td>7.88%</td>\n",
       "      <td>272.15</td>\n",
       "      <td>A</td>\n",
       "      <td>A5</td>\n",
       "      <td>Kennedy Wilson</td>\n",
       "      <td>...</td>\n",
       "      <td>0.0</td>\n",
       "      <td>81</td>\n",
       "      <td>0.6</td>\n",
       "      <td>8.0</td>\n",
       "      <td>f</td>\n",
       "      <td>NaN</td>\n",
       "      <td>1</td>\n",
       "      <td>0</td>\n",
       "      <td>2016</td>\n",
       "      <td>1</td>\n",
       "    </tr>\n",
       "    <tr>\n",
       "      <td>3</td>\n",
       "      <td>4</td>\n",
       "      <td>2016-01-13</td>\n",
       "      <td>18000</td>\n",
       "      <td>18000</td>\n",
       "      <td>60 months</td>\n",
       "      <td>11.49%</td>\n",
       "      <td>395.78</td>\n",
       "      <td>B</td>\n",
       "      <td>B4</td>\n",
       "      <td>TOWN OF PLATTEKILL</td>\n",
       "      <td>...</td>\n",
       "      <td>0.0</td>\n",
       "      <td>10030</td>\n",
       "      <td>37.1</td>\n",
       "      <td>23.0</td>\n",
       "      <td>f</td>\n",
       "      <td>NaN</td>\n",
       "      <td>1</td>\n",
       "      <td>0</td>\n",
       "      <td>2016</td>\n",
       "      <td>1</td>\n",
       "    </tr>\n",
       "    <tr>\n",
       "      <td>4</td>\n",
       "      <td>5</td>\n",
       "      <td>2016-01-14</td>\n",
       "      <td>16000</td>\n",
       "      <td>16000</td>\n",
       "      <td>36 months</td>\n",
       "      <td>11.83%</td>\n",
       "      <td>530.15</td>\n",
       "      <td>B</td>\n",
       "      <td>B3</td>\n",
       "      <td>Belmont Correctional</td>\n",
       "      <td>...</td>\n",
       "      <td>0.0</td>\n",
       "      <td>10740</td>\n",
       "      <td>40.4</td>\n",
       "      <td>21.0</td>\n",
       "      <td>f</td>\n",
       "      <td>NaN</td>\n",
       "      <td>1</td>\n",
       "      <td>0</td>\n",
       "      <td>2016</td>\n",
       "      <td>1</td>\n",
       "    </tr>\n",
       "  </tbody>\n",
       "</table>\n",
       "<p>5 rows × 38 columns</p>\n",
       "</div>"
      ],
      "text/plain": [
       "   loan_id loan_app_date  loan_amnt  funded_amnt        term int_rate  \\\n",
       "0        1    2016-01-10       4000         4000   60 months    7.29%   \n",
       "1        2    2016-01-11      16000        16000   60 months   18.25%   \n",
       "2        3    2016-01-12       8700         8700   36 months    7.88%   \n",
       "3        4    2016-01-13      18000        18000   60 months   11.49%   \n",
       "4        5    2016-01-14      16000        16000   36 months   11.83%   \n",
       "\n",
       "   installment grade sub_grade             emp_title  ... pub_rec revol_bal  \\\n",
       "0        79.76     A        A4     Time Warner Cable  ...     0.0     12087   \n",
       "1       408.48     F        F1     Ottawa University  ...     0.0     10114   \n",
       "2       272.15     A        A5        Kennedy Wilson  ...     0.0        81   \n",
       "3       395.78     B        B4    TOWN OF PLATTEKILL  ...     0.0     10030   \n",
       "4       530.15     B        B3  Belmont Correctional  ...     0.0     10740   \n",
       "\n",
       "   revol_util total_acc initial_list_status mths_since_last_major_derog  \\\n",
       "0        12.1      44.0                   f                         NaN   \n",
       "1        64.0       5.0                   f                         NaN   \n",
       "2         0.6       8.0                   f                         NaN   \n",
       "3        37.1      23.0                   f                         NaN   \n",
       "4        40.4      21.0                   f                         NaN   \n",
       "\n",
       "  policy_code is_bad  year month  \n",
       "0           1      0  2016     1  \n",
       "1           1      0  2016     1  \n",
       "2           1      0  2016     1  \n",
       "3           1      0  2016     1  \n",
       "4           1      0  2016     1  \n",
       "\n",
       "[5 rows x 38 columns]"
      ]
     },
     "execution_count": 77,
     "metadata": {},
     "output_type": "execute_result"
    }
   ],
   "source": [
    "df_in['year'] = df_in['loan_app_date'].map(lambda x: x.year)\n",
    "df_in['month'] = df_in['loan_app_date'].map(lambda x: x.month)\n",
    "df_in.head()"
   ]
  },
  {
   "cell_type": "code",
   "execution_count": 86,
   "metadata": {
    "ExecuteTime": {
     "end_time": "2020-01-31T02:30:38.590022Z",
     "start_time": "2020-01-31T02:30:38.567909Z"
    }
   },
   "outputs": [],
   "source": [
    "lc_cols = ['loan_id', 'loan_app_date', 'loan_amnt', 'funded_amnt', 'term', 'int_rate', 'installment', 'grade', \n",
    "    'sub_grade', 'emp_title', 'emp_length', 'home_ownership', 'annual_inc', 'verification_status', 'pymnt_plan', \n",
    "    'url', 'desc', 'purpose', 'title', 'zip_code', 'addr_state', 'dti', 'initial_list_status', 'policy_code', \n",
    "    'is_bad', 'year', 'month']\n",
    "\n",
    "credit_cols = ['loan_id', 'delinq_2yrs', 'earliest_cr_line', 'inq_last_6mths', 'mths_since_last_delinq', \n",
    "    'mths_since_last_record', 'open_acc', 'pub_rec', 'revol_bal', 'revol_util', \n",
    "    'total_acc', 'mths_since_last_major_derog']\n",
    "\n",
    "df_lc = df_in[lc_cols]\n",
    "df_credit = df_in[credit_cols]"
   ]
  },
  {
   "cell_type": "code",
   "execution_count": 87,
   "metadata": {
    "ExecuteTime": {
     "end_time": "2020-01-31T02:30:39.159893Z",
     "start_time": "2020-01-31T02:30:38.969938Z"
    }
   },
   "outputs": [],
   "source": [
    "df_credit.to_csv('20k_loans_credit_data.csv', index=False)"
   ]
  },
  {
   "cell_type": "code",
   "execution_count": 88,
   "metadata": {
    "ExecuteTime": {
     "end_time": "2020-01-31T02:30:39.520712Z",
     "start_time": "2020-01-31T02:30:39.435033Z"
    }
   },
   "outputs": [],
   "source": [
    "table1 = pa.Table.from_pandas(df_lc[0:10000], preserve_index=False)\n",
    "table2 = pa.Table.from_pandas(df_lc[10000:20001], preserve_index=False)"
   ]
  },
  {
   "cell_type": "code",
   "execution_count": 91,
   "metadata": {
    "ExecuteTime": {
     "end_time": "2020-02-01T00:45:58.514325Z",
     "start_time": "2020-02-01T00:45:58.096246Z"
    }
   },
   "outputs": [],
   "source": [
    "!rm -rf loan_history\n",
    "pq.write_to_dataset(table1, root_path='loan_history'\n",
    "    , partition_cols=['year', 'month']\n",
    ")\n",
    "pq.write_to_dataset(table2, root_path='loan_history'\n",
    "    , partition_cols=['year', 'month']\n",
    ")"
   ]
  },
  {
   "cell_type": "code",
   "execution_count": null,
   "metadata": {},
   "outputs": [],
   "source": []
  },
  {
   "cell_type": "code",
   "execution_count": null,
   "metadata": {},
   "outputs": [],
   "source": []
  }
 ],
 "metadata": {
  "kernelspec": {
   "display_name": "Python (test_env)",
   "language": "python",
   "name": "test_env"
  },
  "language_info": {
   "codemirror_mode": {
    "name": "ipython",
    "version": 3
   },
   "file_extension": ".py",
   "mimetype": "text/x-python",
   "name": "python",
   "nbconvert_exporter": "python",
   "pygments_lexer": "ipython3",
   "version": "3.7.4"
  }
 },
 "nbformat": 4,
 "nbformat_minor": 2
}
