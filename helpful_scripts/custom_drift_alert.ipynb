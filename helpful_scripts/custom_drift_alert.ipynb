{
 "cells": [
  {
   "cell_type": "code",
   "execution_count": 1,
   "metadata": {
    "ExecuteTime": {
     "end_time": "2021-04-11T16:15:49.709562Z",
     "start_time": "2021-04-11T16:15:49.062292Z"
    }
   },
   "outputs": [],
   "source": [
    "import pandas as pd\n",
    "import requests\n",
    "import json\n",
    "from pandas.io.json import json_normalize\n",
    "from datetime import datetime, timezone, timedelta"
   ]
  },
  {
   "cell_type": "code",
   "execution_count": 2,
   "metadata": {
    "ExecuteTime": {
     "end_time": "2021-04-11T16:15:50.277403Z",
     "start_time": "2021-04-11T16:15:50.272240Z"
    }
   },
   "outputs": [],
   "source": [
    "# connectivity values\n",
    "DR_API_TOKEN = 'FF____INSERT_API_TOKEN_HERE_______TlU9'\n",
    "DR_MODELING_ENDPOINT = 'https://app.datarobot.com'\n",
    "DR_MODELING_HEADERS = {'Content-Type': 'application/json', 'Authorization': 'token %s' % DR_API_TOKEN}"
   ]
  },
  {
   "cell_type": "code",
   "execution_count": 3,
   "metadata": {
    "ExecuteTime": {
     "end_time": "2021-04-11T16:15:50.720413Z",
     "start_time": "2021-04-11T16:15:50.715051Z"
    }
   },
   "outputs": [],
   "source": [
    "# deployment retrieval\n",
    "DEPLOYMENT_ID = '5c341c008b7d654f'\n",
    "DRIFT_METRIC = 'psi' # psi - Population Stability Index is the default\n",
    "PAST_DAYS_TO_RETRIEVE = 120\n",
    "\n",
    "START_TM = (datetime.now(timezone.utc).replace(microsecond=0, second=0, minute=0) - timedelta(days=PAST_DAYS_TO_RETRIEVE)).isoformat()"
   ]
  },
  {
   "cell_type": "code",
   "execution_count": 4,
   "metadata": {
    "ExecuteTime": {
     "end_time": "2021-04-11T16:15:53.393747Z",
     "start_time": "2021-04-11T16:15:51.256789Z"
    }
   },
   "outputs": [],
   "source": [
    "# get drift data from the deployment\n",
    "params = {\n",
    "    'limit': 100, \n",
    "    'metric': DRIFT_METRIC, \n",
    "    'start': START_TM\n",
    "}\n",
    "\n",
    "response = requests.get(\n",
    "    url = DR_MODELING_ENDPOINT + '/api/v2/deployments/' + DEPLOYMENT_ID + '/featureDrift/',\n",
    "    headers=DR_MODELING_HEADERS,\n",
    "    params=params,\n",
    ")\n",
    "\n",
    "if response.status_code != 200:\n",
    "    print('Request failed; http error {code}: {content}'.format(code=response.status_code, content=response.content))\n",
    "else:\n",
    "    df_features = pd.io.json.json_normalize(response.json()['data'])\n",
    "    sample_size = df_features['sampleSize'].iloc[0]\n",
    "    df_features = df_features[['name', 'featureImpact', 'driftScore']]"
   ]
  },
  {
   "cell_type": "code",
   "execution_count": 5,
   "metadata": {
    "ExecuteTime": {
     "end_time": "2021-04-11T16:15:53.415067Z",
     "start_time": "2021-04-11T16:15:53.396762Z"
    }
   },
   "outputs": [
    {
     "name": "stdout",
     "output_type": "stream",
     "text": [
      "https://app.datarobot.com/deployments/5c3438b3a5151c008b7d654f/data-drift\n",
      "\n",
      "Alert: 2 or more features have exceeded a threshold of 0.2\n",
      "Alert: 1 or more features have exceeded an excessive threshold of 0.8\n",
      "\n",
      "                                           name  featureImpact  driftScore\n",
      "9                                    OCCUPATION       0.338381  321.408581\n",
      "6                             DTI_WPROSPER_LOAN       0.452505    1.939436\n",
      "1                                  LISTING_TERM       0.845353    0.368711\n",
      "4                                 CRED_TU_AT34A       0.480062    0.222828\n",
      "0                       LISTING_MONTHLY_PAYMENT       1.000000    0.190004\n",
      "7                                 CRED_TU_RE01S       0.398086    0.139175\n",
      "8                                 CRED_TU_RE29S       0.387202    0.091992\n",
      "3  RE33S_BALANCE_OWED_ON_ALL_REVOLVING_ACCOUNTS       0.621121    0.080038\n",
      "5                                 CRED_TU_AT09S       0.477660    0.078290\n",
      "2                         STATED_MONTHLY_INCOME       0.667659    0.041166\n"
     ]
    }
   ],
   "source": [
    "# apply custom alerting logic\n",
    "MIN_SAMPLE_SIZE = 250\n",
    "PSI_THRESHOLD = 0.2\n",
    "EXCESSIVE_PSI_THRESHOLD = 0.8\n",
    "IGNORE_FEATURES = ['LISTING_TERM']\n",
    "\n",
    "# get list of features with significant drift\n",
    "df_psi_drifted_features = df_features[(df_features['driftScore'] >= PSI_THRESHOLD)]\n",
    "\n",
    "# remove features we do not want to alert on\n",
    "df_psi_drifted_features = df_psi_drifted_features[~df_psi_drifted_features.name.isin(IGNORE_FEATURES)]\n",
    "\n",
    "alert = 0\n",
    "alert_message = DR_MODELING_ENDPOINT + '/deployments/' + DEPLOYMENT_ID + '/data-drift\\n'\n",
    "\n",
    "if sample_size >= MIN_SAMPLE_SIZE:\n",
    "    if len(df_psi_drifted_features) >= 2:\n",
    "        alert = 1\n",
    "        alert_message += '\\nAlert: 2 or more features have exceeded a threshold of ' + str(PSI_THRESHOLD)\n",
    "    if len(df_psi_drifted_features[(df_psi_drifted_features['driftScore'] >= EXCESSIVE_PSI_THRESHOLD)]) > 0:\n",
    "        alert = 1\n",
    "        alert_message += '\\nAlert: 1 or more features have exceeded an excessive threshold of ' + str(EXCESSIVE_PSI_THRESHOLD)\n",
    "    \n",
    "if alert == 1:\n",
    "    alert_message += '\\n\\n' + str(df_features.sort_values(by=['driftScore'], ascending=False))\n",
    "    print(alert_message)\n",
    "    # take action, eg. send e-mail, kick off new project for training a model replacement, etc."
   ]
  },
  {
   "cell_type": "code",
   "execution_count": null,
   "metadata": {},
   "outputs": [],
   "source": []
  }
 ],
 "metadata": {
  "kernelspec": {
   "display_name": "Python (test_env)",
   "language": "python",
   "name": "test_env"
  },
  "language_info": {
   "codemirror_mode": {
    "name": "ipython",
    "version": 3
   },
   "file_extension": ".py",
   "mimetype": "text/x-python",
   "name": "python",
   "nbconvert_exporter": "python",
   "pygments_lexer": "ipython3",
   "version": "3.7.4"
  }
 },
 "nbformat": 4,
 "nbformat_minor": 2
}
