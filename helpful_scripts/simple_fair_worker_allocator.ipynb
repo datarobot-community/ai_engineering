{
 "cells": [
  {
   "cell_type": "code",
   "execution_count": 35,
   "metadata": {
    "ExecuteTime": {
     "end_time": "2021-03-17T15:59:03.582640Z",
     "start_time": "2021-03-17T15:59:03.579378Z"
    }
   },
   "outputs": [],
   "source": [
    "import pandas as pd\n",
    "import requests\n",
    "import json\n",
    "from pandas.io.json import json_normalize\n",
    "import math"
   ]
  },
  {
   "cell_type": "code",
   "execution_count": 4,
   "metadata": {
    "ExecuteTime": {
     "end_time": "2021-03-17T15:39:21.907227Z",
     "start_time": "2021-03-17T15:39:21.902687Z"
    }
   },
   "outputs": [],
   "source": [
    "# Connectivity Values\n",
    "DR_API_TOKEN = 'insert_API_Token_service_account_preferred'\n",
    "DR_MODELING_ENDPOINT = 'http://10.210.20.159' # 'https://app.datarobot.com'\n",
    "DR_MODELING_HEADERS = {'Content-Type': 'application/json', 'Authorization': 'token %s' % DR_API_TOKEN}\n",
    "\n",
    "# Minimum and hardcoded worker limits\n",
    "# Install max will be looked up after this\n",
    "MIN_WORKERS = 4\n",
    "MAX_WORKERS = 0 # 0 for unlimited"
   ]
  },
  {
   "cell_type": "code",
   "execution_count": 5,
   "metadata": {
    "ExecuteTime": {
     "end_time": "2021-03-17T15:39:22.910168Z",
     "start_time": "2021-03-17T15:39:22.240852Z"
    }
   },
   "outputs": [],
   "source": [
    "\"\"\"\n",
    "get maximum license allowed workers\n",
    "- cluster is assumed to have either this many workers available, or be auto scaled to this max\n",
    "\"\"\"\n",
    "\n",
    "response = requests.get(\n",
    "    url = DR_MODELING_ENDPOINT + '/api/v2/clusterLicense/',\n",
    "    headers=DR_MODELING_HEADERS,\n",
    ")\n",
    "\n",
    "if response.status_code != 200:\n",
    "    print('Request failed; http error {code}: {content}'.format(code=response.status_code, content=response.content))\n",
    "    exit(1)\n",
    "else:\n",
    "    max_workers_total = response.json()['licenseInfo']['concurrentWorkersCount']\n",
    "    max_workers_allowed = max_workers_total\n",
    "    if max_workers_allowed > MAX_WORKERS and MAX_WORKERS != 0:\n",
    "        max_workers_allowed = MAX_WORKERS"
   ]
  },
  {
   "cell_type": "code",
   "execution_count": 43,
   "metadata": {
    "ExecuteTime": {
     "end_time": "2021-03-17T16:06:01.691854Z",
     "start_time": "2021-03-17T16:06:01.050317Z"
    }
   },
   "outputs": [],
   "source": [
    "\"\"\"\n",
    "get current user limits\n",
    "\"\"\"\n",
    "\n",
    "response = requests.get(\n",
    "    url = DR_MODELING_ENDPOINT + '/api/v2/users/?limit=1000',\n",
    "    headers=DR_MODELING_HEADERS,\n",
    ")\n",
    "\n",
    "if response.status_code != 200:\n",
    "    print('Request failed; http error {code}: {content}'.format(code=response.status_code, content=response.content))\n",
    "    exit(1)\n",
    "else:\n",
    "    df_users = pd.io.json.json_normalize(response.json()['data'])[['id', 'username', 'maxWorkers']]"
   ]
  },
  {
   "cell_type": "code",
   "execution_count": 18,
   "metadata": {
    "ExecuteTime": {
     "end_time": "2021-03-17T15:46:42.437730Z",
     "start_time": "2021-03-17T15:46:41.847878Z"
    }
   },
   "outputs": [],
   "source": [
    "\"\"\"\n",
    "get current usage\n",
    "\"\"\"\n",
    "\n",
    "response = requests.get(\n",
    "    url = DR_MODELING_ENDPOINT + '/api/v2/resourceMonitor/',\n",
    "    headers=DR_MODELING_HEADERS,\n",
    ")\n",
    "\n",
    "if response.status_code != 200:\n",
    "    print('Request failed; http error {code}: {content}'.format(code=response.status_code, content=response.content))\n",
    "    exit(1)\n",
    "else:\n",
    "    df_activity = json_normalize(response.json()['users'],record_path=['activity'])"
   ]
  },
  {
   "cell_type": "code",
   "execution_count": 48,
   "metadata": {
    "ExecuteTime": {
     "end_time": "2021-03-17T16:10:43.796095Z",
     "start_time": "2021-03-17T16:10:43.787181Z"
    }
   },
   "outputs": [
    {
     "name": "stdout",
     "output_type": "stream",
     "text": [
      "Active training users: 1, Users with jobs in waiting queue: 0\n",
      "Applying global worker ceiling: 20\n"
     ]
    }
   ],
   "source": [
    "num_active_users = len(df_activity)\n",
    "num_waiting_users = len(df_activity[df_activity['waiting'] > 0])\n",
    "print('Active users: {active}, Users with jobs in waiting queue: {wait}'.format(active=num_active_users, wait=num_waiting_users))\n",
    "\n",
    "worker_ceiling = max_workers_allowed\n",
    "\n",
    "if num_active_users > 1:\n",
    "    worker_ceiling = math.ceil(max_workers_allowed / num_active_users)\n",
    "\n",
    "if worker_ceiling < MIN_WORKERS:\n",
    "    worker_ceiling = MIN_WORKERS\n",
    "\n",
    "print('Applying global worker ceiling: {ceiling}'.format(ceiling=worker_ceiling))"
   ]
  },
  {
   "cell_type": "code",
   "execution_count": 47,
   "metadata": {
    "ExecuteTime": {
     "end_time": "2021-03-17T16:06:41.265493Z",
     "start_time": "2021-03-17T16:06:37.655971Z"
    }
   },
   "outputs": [
    {
     "name": "stdout",
     "output_type": "stream",
     "text": [
      "Applying ceiling to 6033d34a31288c19413ea26e: admin@datarobot.com\n",
      "Applying ceiling to 6033e63531288c19413ff01b: mike.taveirne@datarobot.com\n",
      "Applying ceiling to 6033ed0831288c1941407a73: user1@datarobot.com\n",
      "Applying ceiling to 6033ed2631288c1941407c6d: user2@datarobot.com\n"
     ]
    }
   ],
   "source": [
    "\"\"\"\n",
    "apply ceiling\n",
    "\"\"\"\n",
    "\n",
    "for user_id in df_users['id']:\n",
    "    \n",
    "    print('Applying ceiling to {userid}: {nm}'.format(userid=user_id, nm=df_users[df_users['id'] == user_id]['username'].iloc[0]))\n",
    "    \n",
    "    json = {\n",
    "        \"maxWorkers\": worker_ceiling\n",
    "    }\n",
    "\n",
    "    response = requests.patch(\n",
    "        url = DR_MODELING_ENDPOINT + '/api/v2/users/' + user_id,\n",
    "        headers=DR_MODELING_HEADERS,\n",
    "        json=json\n",
    "    )\n",
    "    \n",
    "    if response.status_code != 204:\n",
    "        print('Request failed; http error {code}: {content}'.format(code=response.status_code, content=response.content))"
   ]
  },
  {
   "cell_type": "code",
   "execution_count": null,
   "metadata": {},
   "outputs": [],
   "source": []
  }
 ],
 "metadata": {
  "kernelspec": {
   "display_name": "Python (test_env)",
   "language": "python",
   "name": "test_env"
  },
  "language_info": {
   "codemirror_mode": {
    "name": "ipython",
    "version": 3
   },
   "file_extension": ".py",
   "mimetype": "text/x-python",
   "name": "python",
   "nbconvert_exporter": "python",
   "pygments_lexer": "ipython3",
   "version": "3.7.4"
  }
 },
 "nbformat": 4,
 "nbformat_minor": 2
}
